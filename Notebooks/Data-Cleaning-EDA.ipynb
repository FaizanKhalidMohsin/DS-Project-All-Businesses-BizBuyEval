{
 "cells": [
  {
   "cell_type": "markdown",
   "metadata": {},
   "source": [
    "# <center> Data Cleaning EDA </center>\n",
    "##### <center> Not Production </center>"
   ]
  },
  {
   "cell_type": "code",
   "execution_count": 19,
   "metadata": {},
   "outputs": [],
   "source": [
    "import numpy as np\n",
    "import pandas as pd"
   ]
  },
  {
   "cell_type": "code",
   "execution_count": 20,
   "metadata": {},
   "outputs": [],
   "source": [
    "rawData = pd.read_csv(\"../Data/RawData/Browse-ai-csv/Browse AI attempt day 1 - 250 rows - 2024-09-26.csv\")"
   ]
  },
  {
   "cell_type": "code",
   "execution_count": 21,
   "metadata": {},
   "outputs": [
    {
     "data": {
      "text/plain": [
       "(250, 8)"
      ]
     },
     "execution_count": 21,
     "metadata": {},
     "output_type": "execute_result"
    }
   ],
   "source": [
    "rawData.shape"
   ]
  },
  {
   "cell_type": "code",
   "execution_count": 22,
   "metadata": {},
   "outputs": [
    {
     "data": {
      "text/html": [
       "<div>\n",
       "<style scoped>\n",
       "    .dataframe tbody tr th:only-of-type {\n",
       "        vertical-align: middle;\n",
       "    }\n",
       "\n",
       "    .dataframe tbody tr th {\n",
       "        vertical-align: top;\n",
       "    }\n",
       "\n",
       "    .dataframe thead th {\n",
       "        text-align: right;\n",
       "    }\n",
       "</style>\n",
       "<table border=\"1\" class=\"dataframe\">\n",
       "  <thead>\n",
       "    <tr style=\"text-align: right;\">\n",
       "      <th></th>\n",
       "      <th>Position</th>\n",
       "      <th>Business Title</th>\n",
       "      <th>Location</th>\n",
       "      <th>Description</th>\n",
       "      <th>Asking Price</th>\n",
       "      <th>Cash Flow</th>\n",
       "      <th>Listing URL</th>\n",
       "      <th>Image</th>\n",
       "    </tr>\n",
       "  </thead>\n",
       "  <tbody>\n",
       "    <tr>\n",
       "      <th>0</th>\n",
       "      <td>1</td>\n",
       "      <td>Established Pharmacy Franchise for Sale - Own ...</td>\n",
       "      <td>Toronto, ON</td>\n",
       "      <td>This pharmacy is a leading supplier in the loc...</td>\n",
       "      <td>$1,100,000</td>\n",
       "      <td>NaN</td>\n",
       "      <td>https://www.bizbuysell.com/Business-Opportunit...</td>\n",
       "      <td>https://images.bizbuysell.com/shared/listings/...</td>\n",
       "    </tr>\n",
       "    <tr>\n",
       "      <th>1</th>\n",
       "      <td>2</td>\n",
       "      <td>Premium Men's Barbershop &amp; Lifestyle Brand</td>\n",
       "      <td>Toronto, ON</td>\n",
       "      <td>Based in Toronto, Ontario, the company operate...</td>\n",
       "      <td>$580,000</td>\n",
       "      <td>$165,000</td>\n",
       "      <td>https://www.bizbuysell.com/Business-Opportunit...</td>\n",
       "      <td>https://images.bizbuysell.com/shared/listings/...</td>\n",
       "    </tr>\n",
       "    <tr>\n",
       "      <th>2</th>\n",
       "      <td>3</td>\n",
       "      <td>Automated Ai Lending Business In Ontario For Sale</td>\n",
       "      <td>Whitby, ON</td>\n",
       "      <td>This is an exceptional opportunity to purchase...</td>\n",
       "      <td>$325,000</td>\n",
       "      <td>NaN</td>\n",
       "      <td>https://www.bizbuysell.com/Business-Opportunit...</td>\n",
       "      <td>https://images.bizbuysell.com/shared/listings/...</td>\n",
       "    </tr>\n",
       "    <tr>\n",
       "      <th>3</th>\n",
       "      <td>4</td>\n",
       "      <td>Profitable Established Landscaping/Constructio...</td>\n",
       "      <td>Vaughan, ON</td>\n",
       "      <td>This well-established, turnkey, and profitable...</td>\n",
       "      <td>$2,195,000</td>\n",
       "      <td>$400,000</td>\n",
       "      <td>https://www.bizbuysell.com/Business-Opportunit...</td>\n",
       "      <td>https://images.bizbuysell.com/shared/listings/...</td>\n",
       "    </tr>\n",
       "    <tr>\n",
       "      <th>4</th>\n",
       "      <td>5</td>\n",
       "      <td>Auto wreckers/recyclers/Auto parts store/Auto ...</td>\n",
       "      <td>BURFORD, ON</td>\n",
       "      <td>Profitable Auto Recyclers, auto parts store ju...</td>\n",
       "      <td>$6,900,000</td>\n",
       "      <td>NaN</td>\n",
       "      <td>https://www.bizbuysell.com/Business-Opportunit...</td>\n",
       "      <td>https://images.bizbuysell.com/shared/listings/...</td>\n",
       "    </tr>\n",
       "  </tbody>\n",
       "</table>\n",
       "</div>"
      ],
      "text/plain": [
       "   Position                                     Business Title     Location  \\\n",
       "0         1  Established Pharmacy Franchise for Sale - Own ...  Toronto, ON   \n",
       "1         2         Premium Men's Barbershop & Lifestyle Brand  Toronto, ON   \n",
       "2         3  Automated Ai Lending Business In Ontario For Sale   Whitby, ON   \n",
       "3         4  Profitable Established Landscaping/Constructio...  Vaughan, ON   \n",
       "4         5  Auto wreckers/recyclers/Auto parts store/Auto ...  BURFORD, ON   \n",
       "\n",
       "                                         Description Asking Price Cash Flow  \\\n",
       "0  This pharmacy is a leading supplier in the loc...   $1,100,000       NaN   \n",
       "1  Based in Toronto, Ontario, the company operate...     $580,000  $165,000   \n",
       "2  This is an exceptional opportunity to purchase...     $325,000       NaN   \n",
       "3  This well-established, turnkey, and profitable...   $2,195,000  $400,000   \n",
       "4  Profitable Auto Recyclers, auto parts store ju...   $6,900,000       NaN   \n",
       "\n",
       "                                         Listing URL  \\\n",
       "0  https://www.bizbuysell.com/Business-Opportunit...   \n",
       "1  https://www.bizbuysell.com/Business-Opportunit...   \n",
       "2  https://www.bizbuysell.com/Business-Opportunit...   \n",
       "3  https://www.bizbuysell.com/Business-Opportunit...   \n",
       "4  https://www.bizbuysell.com/Business-Opportunit...   \n",
       "\n",
       "                                               Image  \n",
       "0  https://images.bizbuysell.com/shared/listings/...  \n",
       "1  https://images.bizbuysell.com/shared/listings/...  \n",
       "2  https://images.bizbuysell.com/shared/listings/...  \n",
       "3  https://images.bizbuysell.com/shared/listings/...  \n",
       "4  https://images.bizbuysell.com/shared/listings/...  "
      ]
     },
     "execution_count": 22,
     "metadata": {},
     "output_type": "execute_result"
    }
   ],
   "source": [
    "rawData.head()"
   ]
  },
  {
   "cell_type": "markdown",
   "metadata": {},
   "source": [
    "## Clean Each Data Field / Column   "
   ]
  },
  {
   "cell_type": "markdown",
   "metadata": {},
   "source": [
    "### # Asking Price"
   ]
  },
  {
   "cell_type": "code",
   "execution_count": 23,
   "metadata": {},
   "outputs": [
    {
     "data": {
      "text/html": [
       "<div>\n",
       "<style scoped>\n",
       "    .dataframe tbody tr th:only-of-type {\n",
       "        vertical-align: middle;\n",
       "    }\n",
       "\n",
       "    .dataframe tbody tr th {\n",
       "        vertical-align: top;\n",
       "    }\n",
       "\n",
       "    .dataframe thead th {\n",
       "        text-align: right;\n",
       "    }\n",
       "</style>\n",
       "<table border=\"1\" class=\"dataframe\">\n",
       "  <thead>\n",
       "    <tr style=\"text-align: right;\">\n",
       "      <th></th>\n",
       "      <th>Asking Price</th>\n",
       "    </tr>\n",
       "  </thead>\n",
       "  <tbody>\n",
       "    <tr>\n",
       "      <th>0</th>\n",
       "      <td>$1,100,000</td>\n",
       "    </tr>\n",
       "    <tr>\n",
       "      <th>1</th>\n",
       "      <td>$580,000</td>\n",
       "    </tr>\n",
       "    <tr>\n",
       "      <th>2</th>\n",
       "      <td>$325,000</td>\n",
       "    </tr>\n",
       "    <tr>\n",
       "      <th>3</th>\n",
       "      <td>$2,195,000</td>\n",
       "    </tr>\n",
       "    <tr>\n",
       "      <th>4</th>\n",
       "      <td>$6,900,000</td>\n",
       "    </tr>\n",
       "    <tr>\n",
       "      <th>...</th>\n",
       "      <td>...</td>\n",
       "    </tr>\n",
       "    <tr>\n",
       "      <th>245</th>\n",
       "      <td>$305,000</td>\n",
       "    </tr>\n",
       "    <tr>\n",
       "      <th>246</th>\n",
       "      <td>$50,000</td>\n",
       "    </tr>\n",
       "    <tr>\n",
       "      <th>247</th>\n",
       "      <td>$1,650,000</td>\n",
       "    </tr>\n",
       "    <tr>\n",
       "      <th>248</th>\n",
       "      <td>$275,000</td>\n",
       "    </tr>\n",
       "    <tr>\n",
       "      <th>249</th>\n",
       "      <td>$7,800,000</td>\n",
       "    </tr>\n",
       "  </tbody>\n",
       "</table>\n",
       "<p>250 rows × 1 columns</p>\n",
       "</div>"
      ],
      "text/plain": [
       "    Asking Price\n",
       "0     $1,100,000\n",
       "1       $580,000\n",
       "2       $325,000\n",
       "3     $2,195,000\n",
       "4     $6,900,000\n",
       "..           ...\n",
       "245     $305,000\n",
       "246      $50,000\n",
       "247   $1,650,000\n",
       "248     $275,000\n",
       "249   $7,800,000\n",
       "\n",
       "[250 rows x 1 columns]"
      ]
     },
     "execution_count": 23,
     "metadata": {},
     "output_type": "execute_result"
    }
   ],
   "source": [
    "rawData.loc[ :, [\"Asking Price\"]]"
   ]
  },
  {
   "cell_type": "code",
   "execution_count": 24,
   "metadata": {},
   "outputs": [
    {
     "data": {
      "text/plain": [
       "0      $1,100,000\n",
       "1        $580,000\n",
       "2        $325,000\n",
       "3      $2,195,000\n",
       "4      $6,900,000\n",
       "          ...    \n",
       "245      $305,000\n",
       "246       $50,000\n",
       "247    $1,650,000\n",
       "248      $275,000\n",
       "249    $7,800,000\n",
       "Name: Asking Price, Length: 250, dtype: object"
      ]
     },
     "execution_count": 24,
     "metadata": {},
     "output_type": "execute_result"
    }
   ],
   "source": [
    "# Show Rows with alphabets in them\n",
    "\n",
    "rawData[\"Asking Price\"]"
   ]
  },
  {
   "cell_type": "code",
   "execution_count": 25,
   "metadata": {},
   "outputs": [
    {
     "data": {
      "text/plain": [
       "array(['$1,100,000', '$580,000', '$325,000', '$2,195,000', '$6,900,000',\n",
       "       '$2,199,900', '$900,000', '$45,000', '$870,000', '$45,000',\n",
       "       '$299,000', '$5,500,000', '$280,000', '$40,000', '$2,000,000',\n",
       "       '$250,000', '$298,000', '$220,000', '$695,000', '$112,000',\n",
       "       '$750,000', '$1,300,000', '$1,029,000', '$275,000', '$750,000',\n",
       "       '$490,000', '$375,000', '$725,000', '$199,590', '$1,100,000',\n",
       "       '$200,000', '$500,000', '$150,000', '$1,100,000', '$50,000',\n",
       "       '$850,000', '$50,000', '$75,000', '$340,000', '$499,000',\n",
       "       '$3,200,000', '$690,000', '$1,500,000', '$525,000', '$250,000',\n",
       "       '$494,450', '$285,000', '$100,000', '$275,000', '$375,000',\n",
       "       '$50,000', '$3,200,000', '$26,900', '$500,000', '$99,000',\n",
       "       '$99,000', '$5,000,000', '$67,000', '$425,000', '$495,000',\n",
       "       '$1,200,000', '$299,999', '$230,000', '$45,000', '$2,000,000',\n",
       "       '$550,000', '$375,000', '$800,000', 'Cash Flow: $700,000',\n",
       "       '$150,000', '$450,000', '$349,000', '$112,000', '$3,500,000',\n",
       "       '$489,000', '$750,000', '$4,200,000', '$750,000', '$1,400,000',\n",
       "       '$890,000', '$1,000,000', '$2,250,000', '$50,000', '$1,200,000',\n",
       "       '$350,000', '$350,000', '$740,000', '$40,000', '$600,000',\n",
       "       '$549,000', '$1,200,000', '$1,350,000', '$140,000', '$275,000',\n",
       "       '$295,000', '$490,000', '$50,000', '$128,000', '$1,070,000',\n",
       "       '$3,700,000', '$169,000', '$195,000', '$1,500,000', '$149,000',\n",
       "       '$1,175,000', '$225,000', '$500,000', '$22,500,000', '$3,450,000',\n",
       "       '$1,100,000', '$3,500,000', '$650,000', '$449,999',\n",
       "       'Cash Flow: $1,800,000', '$2,196,300', '$599,000', '$400,000',\n",
       "       '$100,000', '$90,000', '$440,000', '$850,000', '$4,700,000',\n",
       "       '$400,000', '$2,400,000', '$370,000', '$300,000', '$375,000',\n",
       "       '$40,000', '$1,500,000', '$224,000', '$224,000', '$2,150,000',\n",
       "       '$215,000', '$1,100,000', '$1,500,000', '$3,806,374', '$1,350,000',\n",
       "       '$50,000', '$229,000', '$75,000', '$800,000', '$600,000',\n",
       "       '$65,000', '$1,275,000', '$2,200,000', '$690,000', '$290,000',\n",
       "       '$175,000', '$100,000', '$180,000', '$257,500', '$3,700,000',\n",
       "       '$45,000', '$735,940', '$2,500,000', '$1,200,000', '$350,000',\n",
       "       '$1,000,000', '$500,000', '$450,000', '$375,000', '$863,000',\n",
       "       '$200,000', '$250,000', 'Cash Flow: $592,328', '$265,000',\n",
       "       '$1,000,000', '$625,000', '$983,000', '$5,000,000', '$195,000',\n",
       "       '$1,590,000', '$1,000,000', '$150,000', '$950,000', '$500,000',\n",
       "       '$7,500,000', '$225,000', '$10,000,000', '$750,000', '$1,251,000',\n",
       "       '$350,000', '$200,000', '$720,000', '$1,650,000', '$480,000',\n",
       "       '$600,000', '$110,000', '$1,100,000', '$270,000', '$1,800,000',\n",
       "       '$550,000', '$200,000', '$825,000', '$2,900,000', '$450,000',\n",
       "       '$430,000', '$250,000', '$6,600,000', '$490,000',\n",
       "       'Cash Flow: $300,000', '$600,000', '$1,100,000', '$650,000',\n",
       "       '$499,000', '$1,000,000', '$85,000', '$30,000', '$300,000',\n",
       "       '$1,200,000', '$395,000', '$95,000', '$1,200,000', '$595,000',\n",
       "       '$125,000', '$200,000', '$305,000', '$50,000', '$1,650,000',\n",
       "       '$275,000', '$7,800,000'], dtype=object)"
      ]
     },
     "execution_count": 25,
     "metadata": {},
     "output_type": "execute_result"
    }
   ],
   "source": [
    "rawData[\"Asking Price\"].dropna().values"
   ]
  },
  {
   "cell_type": "code",
   "execution_count": 26,
   "metadata": {},
   "outputs": [
    {
     "name": "stderr",
     "output_type": "stream",
     "text": [
      "C:\\Users\\Cube Statistica\\AppData\\Local\\Temp\\ipykernel_21136\\3973211216.py:4: FutureWarning: The default value of regex will change from True to False in a future version.\n",
      "  rawData[\"Asking Price\"].dropna().str.replace(r\"[a-zA-Z: ]\",'').values\n"
     ]
    },
    {
     "data": {
      "text/plain": [
       "array(['$1,100,000', '$580,000', '$325,000', '$2,195,000', '$6,900,000',\n",
       "       '$2,199,900', '$900,000', '$45,000', '$870,000', '$45,000',\n",
       "       '$299,000', '$5,500,000', '$280,000', '$40,000', '$2,000,000',\n",
       "       '$250,000', '$298,000', '$220,000', '$695,000', '$112,000',\n",
       "       '$750,000', '$1,300,000', '$1,029,000', '$275,000', '$750,000',\n",
       "       '$490,000', '$375,000', '$725,000', '$199,590', '$1,100,000',\n",
       "       '$200,000', '$500,000', '$150,000', '$1,100,000', '$50,000',\n",
       "       '$850,000', '$50,000', '$75,000', '$340,000', '$499,000',\n",
       "       '$3,200,000', '$690,000', '$1,500,000', '$525,000', '$250,000',\n",
       "       '$494,450', '$285,000', '$100,000', '$275,000', '$375,000',\n",
       "       '$50,000', '$3,200,000', '$26,900', '$500,000', '$99,000',\n",
       "       '$99,000', '$5,000,000', '$67,000', '$425,000', '$495,000',\n",
       "       '$1,200,000', '$299,999', '$230,000', '$45,000', '$2,000,000',\n",
       "       '$550,000', '$375,000', '$800,000', '$700,000', '$150,000',\n",
       "       '$450,000', '$349,000', '$112,000', '$3,500,000', '$489,000',\n",
       "       '$750,000', '$4,200,000', '$750,000', '$1,400,000', '$890,000',\n",
       "       '$1,000,000', '$2,250,000', '$50,000', '$1,200,000', '$350,000',\n",
       "       '$350,000', '$740,000', '$40,000', '$600,000', '$549,000',\n",
       "       '$1,200,000', '$1,350,000', '$140,000', '$275,000', '$295,000',\n",
       "       '$490,000', '$50,000', '$128,000', '$1,070,000', '$3,700,000',\n",
       "       '$169,000', '$195,000', '$1,500,000', '$149,000', '$1,175,000',\n",
       "       '$225,000', '$500,000', '$22,500,000', '$3,450,000', '$1,100,000',\n",
       "       '$3,500,000', '$650,000', '$449,999', '$1,800,000', '$2,196,300',\n",
       "       '$599,000', '$400,000', '$100,000', '$90,000', '$440,000',\n",
       "       '$850,000', '$4,700,000', '$400,000', '$2,400,000', '$370,000',\n",
       "       '$300,000', '$375,000', '$40,000', '$1,500,000', '$224,000',\n",
       "       '$224,000', '$2,150,000', '$215,000', '$1,100,000', '$1,500,000',\n",
       "       '$3,806,374', '$1,350,000', '$50,000', '$229,000', '$75,000',\n",
       "       '$800,000', '$600,000', '$65,000', '$1,275,000', '$2,200,000',\n",
       "       '$690,000', '$290,000', '$175,000', '$100,000', '$180,000',\n",
       "       '$257,500', '$3,700,000', '$45,000', '$735,940', '$2,500,000',\n",
       "       '$1,200,000', '$350,000', '$1,000,000', '$500,000', '$450,000',\n",
       "       '$375,000', '$863,000', '$200,000', '$250,000', '$592,328',\n",
       "       '$265,000', '$1,000,000', '$625,000', '$983,000', '$5,000,000',\n",
       "       '$195,000', '$1,590,000', '$1,000,000', '$150,000', '$950,000',\n",
       "       '$500,000', '$7,500,000', '$225,000', '$10,000,000', '$750,000',\n",
       "       '$1,251,000', '$350,000', '$200,000', '$720,000', '$1,650,000',\n",
       "       '$480,000', '$600,000', '$110,000', '$1,100,000', '$270,000',\n",
       "       '$1,800,000', '$550,000', '$200,000', '$825,000', '$2,900,000',\n",
       "       '$450,000', '$430,000', '$250,000', '$6,600,000', '$490,000',\n",
       "       '$300,000', '$600,000', '$1,100,000', '$650,000', '$499,000',\n",
       "       '$1,000,000', '$85,000', '$30,000', '$300,000', '$1,200,000',\n",
       "       '$395,000', '$95,000', '$1,200,000', '$595,000', '$125,000',\n",
       "       '$200,000', '$305,000', '$50,000', '$1,650,000', '$275,000',\n",
       "       '$7,800,000'], dtype=object)"
      ]
     },
     "execution_count": 26,
     "metadata": {},
     "output_type": "execute_result"
    }
   ],
   "source": [
    "# Remove everything except numbers, dollar sign and commas.\n",
    "\n",
    "# This tells what to remove. This works for the current dataset but not scalable as it is like hard coding.\n",
    "rawData[\"Asking Price\"].dropna().str.replace(r\"[a-zA-Z: ]\",'').values"
   ]
  },
  {
   "cell_type": "code",
   "execution_count": 27,
   "metadata": {},
   "outputs": [
    {
     "name": "stdout",
     "output_type": "stream",
     "text": [
      "250\n"
     ]
    },
    {
     "name": "stderr",
     "output_type": "stream",
     "text": [
      "C:\\Users\\Cube Statistica\\AppData\\Local\\Temp\\ipykernel_21136\\4214115916.py:5: FutureWarning: The default value of regex will change from True to False in a future version.\n",
      "  print(len(rawData[\"Asking Price\"].str.replace(r\"[^0-9]\",'').values)) # Remove \"$\" and \",\" so it can be read in as a number.\n",
      "C:\\Users\\Cube Statistica\\AppData\\Local\\Temp\\ipykernel_21136\\4214115916.py:6: FutureWarning: The default value of regex will change from True to False in a future version.\n",
      "  rawData[\"Asking Price\"].str.replace(r\"[^0-9$,]\",'').values\n"
     ]
    },
    {
     "data": {
      "text/plain": [
       "array(['$1,100,000', '$580,000', '$325,000', '$2,195,000', '$6,900,000',\n",
       "       nan, '$2,199,900', '$900,000', '$45,000', nan, '$870,000',\n",
       "       '$45,000', '$299,000', '$5,500,000', '$280,000', '$40,000',\n",
       "       '$2,000,000', nan, nan, '$250,000', '$298,000', '$220,000',\n",
       "       '$695,000', '$112,000', '$750,000', '$1,300,000', '$1,029,000',\n",
       "       '$275,000', '$750,000', nan, '$490,000', '$375,000', '$725,000',\n",
       "       '$199,590', '$1,100,000', '$200,000', '$500,000', '$150,000',\n",
       "       '$1,100,000', '$50,000', '$850,000', '$50,000', '$75,000',\n",
       "       '$340,000', '$499,000', '$3,200,000', '$690,000', nan,\n",
       "       '$1,500,000', '$525,000', '$250,000', '$494,450', '$285,000',\n",
       "       '$100,000', '$275,000', '$375,000', '$50,000', '$3,200,000',\n",
       "       '$26,900', '$500,000', '$99,000', '$99,000', '$5,000,000', nan,\n",
       "       '$67,000', nan, '$425,000', '$495,000', '$1,200,000', '$299,999',\n",
       "       '$230,000', '$45,000', '$2,000,000', '$550,000', nan, '$375,000',\n",
       "       '$800,000', nan, '$700,000', '$150,000', nan, '$450,000',\n",
       "       '$349,000', '$112,000', '$3,500,000', '$489,000', nan, '$750,000',\n",
       "       '$4,200,000', nan, '$750,000', '$1,400,000', '$890,000',\n",
       "       '$1,000,000', '$2,250,000', '$50,000', '$1,200,000', '$350,000',\n",
       "       nan, '$350,000', '$740,000', '$40,000', '$600,000', '$549,000',\n",
       "       '$1,200,000', nan, '$1,350,000', nan, '$140,000', '$275,000', nan,\n",
       "       '$295,000', '$490,000', '$50,000', '$128,000', '$1,070,000',\n",
       "       '$3,700,000', '$169,000', '$195,000', '$1,500,000', '$149,000',\n",
       "       '$1,175,000', '$225,000', '$500,000', '$22,500,000', '$3,450,000',\n",
       "       '$1,100,000', '$3,500,000', '$650,000', nan, '$449,999',\n",
       "       '$1,800,000', '$2,196,300', '$599,000', '$400,000', '$100,000',\n",
       "       '$90,000', '$440,000', nan, '$850,000', '$4,700,000', nan,\n",
       "       '$400,000', '$2,400,000', '$370,000', '$300,000', '$375,000',\n",
       "       '$40,000', '$1,500,000', '$224,000', nan, '$224,000', '$2,150,000',\n",
       "       nan, '$215,000', '$1,100,000', '$1,500,000', '$3,806,374',\n",
       "       '$1,350,000', '$50,000', '$229,000', '$75,000', nan, '$800,000',\n",
       "       '$600,000', '$65,000', '$1,275,000', '$2,200,000', '$690,000',\n",
       "       '$290,000', '$175,000', nan, '$100,000', '$180,000', '$257,500',\n",
       "       '$3,700,000', '$45,000', '$735,940', '$2,500,000', '$1,200,000',\n",
       "       '$350,000', '$1,000,000', '$500,000', '$450,000', '$375,000',\n",
       "       '$863,000', '$200,000', '$250,000', '$592,328', '$265,000',\n",
       "       '$1,000,000', '$625,000', nan, '$983,000', '$5,000,000',\n",
       "       '$195,000', '$1,590,000', '$1,000,000', '$150,000', '$950,000',\n",
       "       '$500,000', '$7,500,000', '$225,000', '$10,000,000', nan, nan,\n",
       "       '$750,000', '$1,251,000', '$350,000', '$200,000', '$720,000',\n",
       "       '$1,650,000', '$480,000', '$600,000', '$110,000', '$1,100,000',\n",
       "       nan, '$270,000', '$1,800,000', '$550,000', '$200,000', '$825,000',\n",
       "       '$2,900,000', '$450,000', '$430,000', '$250,000', '$6,600,000',\n",
       "       '$490,000', '$300,000', '$600,000', '$1,100,000', '$650,000',\n",
       "       '$499,000', '$1,000,000', nan, '$85,000', '$30,000', '$300,000',\n",
       "       '$1,200,000', '$395,000', '$95,000', '$1,200,000', '$595,000',\n",
       "       '$125,000', '$200,000', '$305,000', '$50,000', '$1,650,000',\n",
       "       '$275,000', '$7,800,000'], dtype=object)"
      ]
     },
     "execution_count": 27,
     "metadata": {},
     "output_type": "execute_result"
    }
   ],
   "source": [
    "# This tells what to keep. Removes everything else. Much better.\n",
    "\n",
    "# Do not drop NAs as need equal length rows when replacing column with cleaned version.\n",
    "#rawData[\"Asking Price\"].dropna.str.replace(r\"[^0-9$,]\",'').values\n",
    "print(len(rawData[\"Asking Price\"].str.replace(r\"[^0-9]\",'').values)) # Remove \"$\" and \",\" so it can be read in as a number. \n",
    "rawData[\"Asking Price\"].str.replace(r\"[^0-9$,]\",'').values"
   ]
  },
  {
   "cell_type": "code",
   "execution_count": 28,
   "metadata": {},
   "outputs": [
    {
     "name": "stderr",
     "output_type": "stream",
     "text": [
      "C:\\Users\\Cube Statistica\\AppData\\Local\\Temp\\ipykernel_21136\\1655222023.py:3: FutureWarning: The default value of regex will change from True to False in a future version.\n",
      "  rawData1[\"Asking Price\"] = rawData[\"Asking Price\"].str.replace(r\"[^0-9]\",'').values\n"
     ]
    },
    {
     "data": {
      "text/html": [
       "<div>\n",
       "<style scoped>\n",
       "    .dataframe tbody tr th:only-of-type {\n",
       "        vertical-align: middle;\n",
       "    }\n",
       "\n",
       "    .dataframe tbody tr th {\n",
       "        vertical-align: top;\n",
       "    }\n",
       "\n",
       "    .dataframe thead th {\n",
       "        text-align: right;\n",
       "    }\n",
       "</style>\n",
       "<table border=\"1\" class=\"dataframe\">\n",
       "  <thead>\n",
       "    <tr style=\"text-align: right;\">\n",
       "      <th></th>\n",
       "      <th>Position</th>\n",
       "      <th>Business Title</th>\n",
       "      <th>Location</th>\n",
       "      <th>Description</th>\n",
       "      <th>Asking Price</th>\n",
       "      <th>Cash Flow</th>\n",
       "      <th>Listing URL</th>\n",
       "      <th>Image</th>\n",
       "    </tr>\n",
       "  </thead>\n",
       "  <tbody>\n",
       "    <tr>\n",
       "      <th>0</th>\n",
       "      <td>1</td>\n",
       "      <td>Established Pharmacy Franchise for Sale - Own ...</td>\n",
       "      <td>Toronto, ON</td>\n",
       "      <td>This pharmacy is a leading supplier in the loc...</td>\n",
       "      <td>1100000</td>\n",
       "      <td>NaN</td>\n",
       "      <td>https://www.bizbuysell.com/Business-Opportunit...</td>\n",
       "      <td>https://images.bizbuysell.com/shared/listings/...</td>\n",
       "    </tr>\n",
       "    <tr>\n",
       "      <th>1</th>\n",
       "      <td>2</td>\n",
       "      <td>Premium Men's Barbershop &amp; Lifestyle Brand</td>\n",
       "      <td>Toronto, ON</td>\n",
       "      <td>Based in Toronto, Ontario, the company operate...</td>\n",
       "      <td>580000</td>\n",
       "      <td>$165,000</td>\n",
       "      <td>https://www.bizbuysell.com/Business-Opportunit...</td>\n",
       "      <td>https://images.bizbuysell.com/shared/listings/...</td>\n",
       "    </tr>\n",
       "    <tr>\n",
       "      <th>2</th>\n",
       "      <td>3</td>\n",
       "      <td>Automated Ai Lending Business In Ontario For Sale</td>\n",
       "      <td>Whitby, ON</td>\n",
       "      <td>This is an exceptional opportunity to purchase...</td>\n",
       "      <td>325000</td>\n",
       "      <td>NaN</td>\n",
       "      <td>https://www.bizbuysell.com/Business-Opportunit...</td>\n",
       "      <td>https://images.bizbuysell.com/shared/listings/...</td>\n",
       "    </tr>\n",
       "    <tr>\n",
       "      <th>3</th>\n",
       "      <td>4</td>\n",
       "      <td>Profitable Established Landscaping/Constructio...</td>\n",
       "      <td>Vaughan, ON</td>\n",
       "      <td>This well-established, turnkey, and profitable...</td>\n",
       "      <td>2195000</td>\n",
       "      <td>$400,000</td>\n",
       "      <td>https://www.bizbuysell.com/Business-Opportunit...</td>\n",
       "      <td>https://images.bizbuysell.com/shared/listings/...</td>\n",
       "    </tr>\n",
       "    <tr>\n",
       "      <th>4</th>\n",
       "      <td>5</td>\n",
       "      <td>Auto wreckers/recyclers/Auto parts store/Auto ...</td>\n",
       "      <td>BURFORD, ON</td>\n",
       "      <td>Profitable Auto Recyclers, auto parts store ju...</td>\n",
       "      <td>6900000</td>\n",
       "      <td>NaN</td>\n",
       "      <td>https://www.bizbuysell.com/Business-Opportunit...</td>\n",
       "      <td>https://images.bizbuysell.com/shared/listings/...</td>\n",
       "    </tr>\n",
       "    <tr>\n",
       "      <th>...</th>\n",
       "      <td>...</td>\n",
       "      <td>...</td>\n",
       "      <td>...</td>\n",
       "      <td>...</td>\n",
       "      <td>...</td>\n",
       "      <td>...</td>\n",
       "      <td>...</td>\n",
       "      <td>...</td>\n",
       "    </tr>\n",
       "    <tr>\n",
       "      <th>245</th>\n",
       "      <td>246</td>\n",
       "      <td>Retail Bakery &amp; Coffee Shop - Unique and Profi...</td>\n",
       "      <td>Ottawa, ON</td>\n",
       "      <td>**All dollar amounts are USD. All cash busines...</td>\n",
       "      <td>305000</td>\n",
       "      <td>$305,000</td>\n",
       "      <td>https://www.bizbuysell.com/Business-Opportunit...</td>\n",
       "      <td>https://images.bizbuysell.com/shared/listings/...</td>\n",
       "    </tr>\n",
       "    <tr>\n",
       "      <th>246</th>\n",
       "      <td>247</td>\n",
       "      <td>The Cleaning Authority</td>\n",
       "      <td>Available in Canada</td>\n",
       "      <td>Investing in The Cleaning Authority franchise ...</td>\n",
       "      <td>50000</td>\n",
       "      <td>NaN</td>\n",
       "      <td>https://www.bizbuysell.com/franchise-for-sale/...</td>\n",
       "      <td>https://images.bizbuysell.com/fnw/images/369/3...</td>\n",
       "    </tr>\n",
       "    <tr>\n",
       "      <th>247</th>\n",
       "      <td>248</td>\n",
       "      <td>Remunerative and Leading Online Auction House</td>\n",
       "      <td>SW Ontario, ON</td>\n",
       "      <td>This reliable online auction business speciali...</td>\n",
       "      <td>1650000</td>\n",
       "      <td>$331,000</td>\n",
       "      <td>https://www.bizbuysell.com/Business-Opportunit...</td>\n",
       "      <td>https://images.bizbuysell.com/shared/listings/...</td>\n",
       "    </tr>\n",
       "    <tr>\n",
       "      <th>248</th>\n",
       "      <td>249</td>\n",
       "      <td>Digital Marketing Agency with Proven Track Record</td>\n",
       "      <td>Home Based, ON</td>\n",
       "      <td>Explore an exclusive opportunity to step into ...</td>\n",
       "      <td>275000</td>\n",
       "      <td>$93,000</td>\n",
       "      <td>https://www.bizbuysell.com/Business-Opportunit...</td>\n",
       "      <td>https://images.bizbuysell.com/shared/listings/...</td>\n",
       "    </tr>\n",
       "    <tr>\n",
       "      <th>249</th>\n",
       "      <td>250</td>\n",
       "      <td>Interior Architecture &amp; Design Management</td>\n",
       "      <td>Toronto, ON</td>\n",
       "      <td>The Firms’ services include interior styling, ...</td>\n",
       "      <td>7800000</td>\n",
       "      <td>$1,563,546</td>\n",
       "      <td>https://www.bizbuysell.com/Business-Opportunit...</td>\n",
       "      <td>https://images.bizbuysell.com/shared/listings/...</td>\n",
       "    </tr>\n",
       "  </tbody>\n",
       "</table>\n",
       "<p>250 rows × 8 columns</p>\n",
       "</div>"
      ],
      "text/plain": [
       "     Position                                     Business Title  \\\n",
       "0           1  Established Pharmacy Franchise for Sale - Own ...   \n",
       "1           2         Premium Men's Barbershop & Lifestyle Brand   \n",
       "2           3  Automated Ai Lending Business In Ontario For Sale   \n",
       "3           4  Profitable Established Landscaping/Constructio...   \n",
       "4           5  Auto wreckers/recyclers/Auto parts store/Auto ...   \n",
       "..        ...                                                ...   \n",
       "245       246  Retail Bakery & Coffee Shop - Unique and Profi...   \n",
       "246       247                             The Cleaning Authority   \n",
       "247       248      Remunerative and Leading Online Auction House   \n",
       "248       249  Digital Marketing Agency with Proven Track Record   \n",
       "249       250          Interior Architecture & Design Management   \n",
       "\n",
       "                Location                                        Description  \\\n",
       "0            Toronto, ON  This pharmacy is a leading supplier in the loc...   \n",
       "1            Toronto, ON  Based in Toronto, Ontario, the company operate...   \n",
       "2             Whitby, ON  This is an exceptional opportunity to purchase...   \n",
       "3            Vaughan, ON  This well-established, turnkey, and profitable...   \n",
       "4            BURFORD, ON  Profitable Auto Recyclers, auto parts store ju...   \n",
       "..                   ...                                                ...   \n",
       "245           Ottawa, ON  **All dollar amounts are USD. All cash busines...   \n",
       "246  Available in Canada  Investing in The Cleaning Authority franchise ...   \n",
       "247       SW Ontario, ON  This reliable online auction business speciali...   \n",
       "248       Home Based, ON  Explore an exclusive opportunity to step into ...   \n",
       "249          Toronto, ON  The Firms’ services include interior styling, ...   \n",
       "\n",
       "    Asking Price   Cash Flow  \\\n",
       "0        1100000         NaN   \n",
       "1         580000    $165,000   \n",
       "2         325000         NaN   \n",
       "3        2195000    $400,000   \n",
       "4        6900000         NaN   \n",
       "..           ...         ...   \n",
       "245       305000    $305,000   \n",
       "246        50000         NaN   \n",
       "247      1650000    $331,000   \n",
       "248       275000     $93,000   \n",
       "249      7800000  $1,563,546   \n",
       "\n",
       "                                           Listing URL  \\\n",
       "0    https://www.bizbuysell.com/Business-Opportunit...   \n",
       "1    https://www.bizbuysell.com/Business-Opportunit...   \n",
       "2    https://www.bizbuysell.com/Business-Opportunit...   \n",
       "3    https://www.bizbuysell.com/Business-Opportunit...   \n",
       "4    https://www.bizbuysell.com/Business-Opportunit...   \n",
       "..                                                 ...   \n",
       "245  https://www.bizbuysell.com/Business-Opportunit...   \n",
       "246  https://www.bizbuysell.com/franchise-for-sale/...   \n",
       "247  https://www.bizbuysell.com/Business-Opportunit...   \n",
       "248  https://www.bizbuysell.com/Business-Opportunit...   \n",
       "249  https://www.bizbuysell.com/Business-Opportunit...   \n",
       "\n",
       "                                                 Image  \n",
       "0    https://images.bizbuysell.com/shared/listings/...  \n",
       "1    https://images.bizbuysell.com/shared/listings/...  \n",
       "2    https://images.bizbuysell.com/shared/listings/...  \n",
       "3    https://images.bizbuysell.com/shared/listings/...  \n",
       "4    https://images.bizbuysell.com/shared/listings/...  \n",
       "..                                                 ...  \n",
       "245  https://images.bizbuysell.com/shared/listings/...  \n",
       "246  https://images.bizbuysell.com/fnw/images/369/3...  \n",
       "247  https://images.bizbuysell.com/shared/listings/...  \n",
       "248  https://images.bizbuysell.com/shared/listings/...  \n",
       "249  https://images.bizbuysell.com/shared/listings/...  \n",
       "\n",
       "[250 rows x 8 columns]"
      ]
     },
     "execution_count": 28,
     "metadata": {},
     "output_type": "execute_result"
    }
   ],
   "source": [
    "# Create new dataset to put the clean Asking Price column\n",
    "rawData1 = rawData\n",
    "rawData1[\"Asking Price\"] = rawData[\"Asking Price\"].str.replace(r\"[^0-9]\",'').values\n",
    "cleanData = rawData1\n",
    "cleanData # The Cleaned version of the data after every cleaning."
   ]
  },
  {
   "cell_type": "code",
   "execution_count": 29,
   "metadata": {},
   "outputs": [
    {
     "data": {
      "text/plain": [
       "array(['1100000', '580000', '325000', '2195000', '6900000', nan,\n",
       "       '2199900', '900000', '45000', nan, '870000', '45000', '299000',\n",
       "       '5500000', '280000', '40000', '2000000', nan, nan, '250000',\n",
       "       '298000', '220000', '695000', '112000', '750000', '1300000',\n",
       "       '1029000', '275000', '750000', nan, '490000', '375000', '725000',\n",
       "       '199590', '1100000', '200000', '500000', '150000', '1100000',\n",
       "       '50000', '850000', '50000', '75000', '340000', '499000', '3200000',\n",
       "       '690000', nan, '1500000', '525000', '250000', '494450', '285000',\n",
       "       '100000', '275000', '375000', '50000', '3200000', '26900',\n",
       "       '500000', '99000', '99000', '5000000', nan, '67000', nan, '425000',\n",
       "       '495000', '1200000', '299999', '230000', '45000', '2000000',\n",
       "       '550000', nan, '375000', '800000', nan, '700000', '150000', nan,\n",
       "       '450000', '349000', '112000', '3500000', '489000', nan, '750000',\n",
       "       '4200000', nan, '750000', '1400000', '890000', '1000000',\n",
       "       '2250000', '50000', '1200000', '350000', nan, '350000', '740000',\n",
       "       '40000', '600000', '549000', '1200000', nan, '1350000', nan,\n",
       "       '140000', '275000', nan, '295000', '490000', '50000', '128000',\n",
       "       '1070000', '3700000', '169000', '195000', '1500000', '149000',\n",
       "       '1175000', '225000', '500000', '22500000', '3450000', '1100000',\n",
       "       '3500000', '650000', nan, '449999', '1800000', '2196300', '599000',\n",
       "       '400000', '100000', '90000', '440000', nan, '850000', '4700000',\n",
       "       nan, '400000', '2400000', '370000', '300000', '375000', '40000',\n",
       "       '1500000', '224000', nan, '224000', '2150000', nan, '215000',\n",
       "       '1100000', '1500000', '3806374', '1350000', '50000', '229000',\n",
       "       '75000', nan, '800000', '600000', '65000', '1275000', '2200000',\n",
       "       '690000', '290000', '175000', nan, '100000', '180000', '257500',\n",
       "       '3700000', '45000', '735940', '2500000', '1200000', '350000',\n",
       "       '1000000', '500000', '450000', '375000', '863000', '200000',\n",
       "       '250000', '592328', '265000', '1000000', '625000', nan, '983000',\n",
       "       '5000000', '195000', '1590000', '1000000', '150000', '950000',\n",
       "       '500000', '7500000', '225000', '10000000', nan, nan, '750000',\n",
       "       '1251000', '350000', '200000', '720000', '1650000', '480000',\n",
       "       '600000', '110000', '1100000', nan, '270000', '1800000', '550000',\n",
       "       '200000', '825000', '2900000', '450000', '430000', '250000',\n",
       "       '6600000', '490000', '300000', '600000', '1100000', '650000',\n",
       "       '499000', '1000000', nan, '85000', '30000', '300000', '1200000',\n",
       "       '395000', '95000', '1200000', '595000', '125000', '200000',\n",
       "       '305000', '50000', '1650000', '275000', '7800000'], dtype=object)"
      ]
     },
     "execution_count": 29,
     "metadata": {},
     "output_type": "execute_result"
    }
   ],
   "source": [
    "rawData1[\"Asking Price\"].values"
   ]
  },
  {
   "cell_type": "markdown",
   "metadata": {},
   "source": [
    "### # Cash Flow"
   ]
  },
  {
   "cell_type": "code",
   "execution_count": 30,
   "metadata": {},
   "outputs": [
    {
     "name": "stderr",
     "output_type": "stream",
     "text": [
      "C:\\Users\\Cube Statistica\\AppData\\Local\\Temp\\ipykernel_21136\\1363371460.py:3: FutureWarning: The default value of regex will change from True to False in a future version.\n",
      "  rawData2[\"Cash Flow\"] = rawData1[\"Cash Flow\"].str.replace(r\"[^0-9]\",'').values\n"
     ]
    },
    {
     "data": {
      "text/html": [
       "<div>\n",
       "<style scoped>\n",
       "    .dataframe tbody tr th:only-of-type {\n",
       "        vertical-align: middle;\n",
       "    }\n",
       "\n",
       "    .dataframe tbody tr th {\n",
       "        vertical-align: top;\n",
       "    }\n",
       "\n",
       "    .dataframe thead th {\n",
       "        text-align: right;\n",
       "    }\n",
       "</style>\n",
       "<table border=\"1\" class=\"dataframe\">\n",
       "  <thead>\n",
       "    <tr style=\"text-align: right;\">\n",
       "      <th></th>\n",
       "      <th>Position</th>\n",
       "      <th>Business Title</th>\n",
       "      <th>Location</th>\n",
       "      <th>Description</th>\n",
       "      <th>Asking Price</th>\n",
       "      <th>Cash Flow</th>\n",
       "      <th>Listing URL</th>\n",
       "      <th>Image</th>\n",
       "    </tr>\n",
       "  </thead>\n",
       "  <tbody>\n",
       "    <tr>\n",
       "      <th>0</th>\n",
       "      <td>1</td>\n",
       "      <td>Established Pharmacy Franchise for Sale - Own ...</td>\n",
       "      <td>Toronto, ON</td>\n",
       "      <td>This pharmacy is a leading supplier in the loc...</td>\n",
       "      <td>1100000</td>\n",
       "      <td>NaN</td>\n",
       "      <td>https://www.bizbuysell.com/Business-Opportunit...</td>\n",
       "      <td>https://images.bizbuysell.com/shared/listings/...</td>\n",
       "    </tr>\n",
       "    <tr>\n",
       "      <th>1</th>\n",
       "      <td>2</td>\n",
       "      <td>Premium Men's Barbershop &amp; Lifestyle Brand</td>\n",
       "      <td>Toronto, ON</td>\n",
       "      <td>Based in Toronto, Ontario, the company operate...</td>\n",
       "      <td>580000</td>\n",
       "      <td>165000</td>\n",
       "      <td>https://www.bizbuysell.com/Business-Opportunit...</td>\n",
       "      <td>https://images.bizbuysell.com/shared/listings/...</td>\n",
       "    </tr>\n",
       "    <tr>\n",
       "      <th>2</th>\n",
       "      <td>3</td>\n",
       "      <td>Automated Ai Lending Business In Ontario For Sale</td>\n",
       "      <td>Whitby, ON</td>\n",
       "      <td>This is an exceptional opportunity to purchase...</td>\n",
       "      <td>325000</td>\n",
       "      <td>NaN</td>\n",
       "      <td>https://www.bizbuysell.com/Business-Opportunit...</td>\n",
       "      <td>https://images.bizbuysell.com/shared/listings/...</td>\n",
       "    </tr>\n",
       "    <tr>\n",
       "      <th>3</th>\n",
       "      <td>4</td>\n",
       "      <td>Profitable Established Landscaping/Constructio...</td>\n",
       "      <td>Vaughan, ON</td>\n",
       "      <td>This well-established, turnkey, and profitable...</td>\n",
       "      <td>2195000</td>\n",
       "      <td>400000</td>\n",
       "      <td>https://www.bizbuysell.com/Business-Opportunit...</td>\n",
       "      <td>https://images.bizbuysell.com/shared/listings/...</td>\n",
       "    </tr>\n",
       "    <tr>\n",
       "      <th>4</th>\n",
       "      <td>5</td>\n",
       "      <td>Auto wreckers/recyclers/Auto parts store/Auto ...</td>\n",
       "      <td>BURFORD, ON</td>\n",
       "      <td>Profitable Auto Recyclers, auto parts store ju...</td>\n",
       "      <td>6900000</td>\n",
       "      <td>NaN</td>\n",
       "      <td>https://www.bizbuysell.com/Business-Opportunit...</td>\n",
       "      <td>https://images.bizbuysell.com/shared/listings/...</td>\n",
       "    </tr>\n",
       "    <tr>\n",
       "      <th>...</th>\n",
       "      <td>...</td>\n",
       "      <td>...</td>\n",
       "      <td>...</td>\n",
       "      <td>...</td>\n",
       "      <td>...</td>\n",
       "      <td>...</td>\n",
       "      <td>...</td>\n",
       "      <td>...</td>\n",
       "    </tr>\n",
       "    <tr>\n",
       "      <th>245</th>\n",
       "      <td>246</td>\n",
       "      <td>Retail Bakery &amp; Coffee Shop - Unique and Profi...</td>\n",
       "      <td>Ottawa, ON</td>\n",
       "      <td>**All dollar amounts are USD. All cash busines...</td>\n",
       "      <td>305000</td>\n",
       "      <td>305000</td>\n",
       "      <td>https://www.bizbuysell.com/Business-Opportunit...</td>\n",
       "      <td>https://images.bizbuysell.com/shared/listings/...</td>\n",
       "    </tr>\n",
       "    <tr>\n",
       "      <th>246</th>\n",
       "      <td>247</td>\n",
       "      <td>The Cleaning Authority</td>\n",
       "      <td>Available in Canada</td>\n",
       "      <td>Investing in The Cleaning Authority franchise ...</td>\n",
       "      <td>50000</td>\n",
       "      <td>NaN</td>\n",
       "      <td>https://www.bizbuysell.com/franchise-for-sale/...</td>\n",
       "      <td>https://images.bizbuysell.com/fnw/images/369/3...</td>\n",
       "    </tr>\n",
       "    <tr>\n",
       "      <th>247</th>\n",
       "      <td>248</td>\n",
       "      <td>Remunerative and Leading Online Auction House</td>\n",
       "      <td>SW Ontario, ON</td>\n",
       "      <td>This reliable online auction business speciali...</td>\n",
       "      <td>1650000</td>\n",
       "      <td>331000</td>\n",
       "      <td>https://www.bizbuysell.com/Business-Opportunit...</td>\n",
       "      <td>https://images.bizbuysell.com/shared/listings/...</td>\n",
       "    </tr>\n",
       "    <tr>\n",
       "      <th>248</th>\n",
       "      <td>249</td>\n",
       "      <td>Digital Marketing Agency with Proven Track Record</td>\n",
       "      <td>Home Based, ON</td>\n",
       "      <td>Explore an exclusive opportunity to step into ...</td>\n",
       "      <td>275000</td>\n",
       "      <td>93000</td>\n",
       "      <td>https://www.bizbuysell.com/Business-Opportunit...</td>\n",
       "      <td>https://images.bizbuysell.com/shared/listings/...</td>\n",
       "    </tr>\n",
       "    <tr>\n",
       "      <th>249</th>\n",
       "      <td>250</td>\n",
       "      <td>Interior Architecture &amp; Design Management</td>\n",
       "      <td>Toronto, ON</td>\n",
       "      <td>The Firms’ services include interior styling, ...</td>\n",
       "      <td>7800000</td>\n",
       "      <td>1563546</td>\n",
       "      <td>https://www.bizbuysell.com/Business-Opportunit...</td>\n",
       "      <td>https://images.bizbuysell.com/shared/listings/...</td>\n",
       "    </tr>\n",
       "  </tbody>\n",
       "</table>\n",
       "<p>250 rows × 8 columns</p>\n",
       "</div>"
      ],
      "text/plain": [
       "     Position                                     Business Title  \\\n",
       "0           1  Established Pharmacy Franchise for Sale - Own ...   \n",
       "1           2         Premium Men's Barbershop & Lifestyle Brand   \n",
       "2           3  Automated Ai Lending Business In Ontario For Sale   \n",
       "3           4  Profitable Established Landscaping/Constructio...   \n",
       "4           5  Auto wreckers/recyclers/Auto parts store/Auto ...   \n",
       "..        ...                                                ...   \n",
       "245       246  Retail Bakery & Coffee Shop - Unique and Profi...   \n",
       "246       247                             The Cleaning Authority   \n",
       "247       248      Remunerative and Leading Online Auction House   \n",
       "248       249  Digital Marketing Agency with Proven Track Record   \n",
       "249       250          Interior Architecture & Design Management   \n",
       "\n",
       "                Location                                        Description  \\\n",
       "0            Toronto, ON  This pharmacy is a leading supplier in the loc...   \n",
       "1            Toronto, ON  Based in Toronto, Ontario, the company operate...   \n",
       "2             Whitby, ON  This is an exceptional opportunity to purchase...   \n",
       "3            Vaughan, ON  This well-established, turnkey, and profitable...   \n",
       "4            BURFORD, ON  Profitable Auto Recyclers, auto parts store ju...   \n",
       "..                   ...                                                ...   \n",
       "245           Ottawa, ON  **All dollar amounts are USD. All cash busines...   \n",
       "246  Available in Canada  Investing in The Cleaning Authority franchise ...   \n",
       "247       SW Ontario, ON  This reliable online auction business speciali...   \n",
       "248       Home Based, ON  Explore an exclusive opportunity to step into ...   \n",
       "249          Toronto, ON  The Firms’ services include interior styling, ...   \n",
       "\n",
       "    Asking Price Cash Flow                                        Listing URL  \\\n",
       "0        1100000       NaN  https://www.bizbuysell.com/Business-Opportunit...   \n",
       "1         580000    165000  https://www.bizbuysell.com/Business-Opportunit...   \n",
       "2         325000       NaN  https://www.bizbuysell.com/Business-Opportunit...   \n",
       "3        2195000    400000  https://www.bizbuysell.com/Business-Opportunit...   \n",
       "4        6900000       NaN  https://www.bizbuysell.com/Business-Opportunit...   \n",
       "..           ...       ...                                                ...   \n",
       "245       305000    305000  https://www.bizbuysell.com/Business-Opportunit...   \n",
       "246        50000       NaN  https://www.bizbuysell.com/franchise-for-sale/...   \n",
       "247      1650000    331000  https://www.bizbuysell.com/Business-Opportunit...   \n",
       "248       275000     93000  https://www.bizbuysell.com/Business-Opportunit...   \n",
       "249      7800000   1563546  https://www.bizbuysell.com/Business-Opportunit...   \n",
       "\n",
       "                                                 Image  \n",
       "0    https://images.bizbuysell.com/shared/listings/...  \n",
       "1    https://images.bizbuysell.com/shared/listings/...  \n",
       "2    https://images.bizbuysell.com/shared/listings/...  \n",
       "3    https://images.bizbuysell.com/shared/listings/...  \n",
       "4    https://images.bizbuysell.com/shared/listings/...  \n",
       "..                                                 ...  \n",
       "245  https://images.bizbuysell.com/shared/listings/...  \n",
       "246  https://images.bizbuysell.com/fnw/images/369/3...  \n",
       "247  https://images.bizbuysell.com/shared/listings/...  \n",
       "248  https://images.bizbuysell.com/shared/listings/...  \n",
       "249  https://images.bizbuysell.com/shared/listings/...  \n",
       "\n",
       "[250 rows x 8 columns]"
      ]
     },
     "execution_count": 30,
     "metadata": {},
     "output_type": "execute_result"
    }
   ],
   "source": [
    "# Create new dataset to put the clean Asking Price column\n",
    "rawData2 = rawData1\n",
    "rawData2[\"Cash Flow\"] = rawData1[\"Cash Flow\"].str.replace(r\"[^0-9]\",'').values\n",
    "cleanData = rawData2\n",
    "cleanData"
   ]
  },
  {
   "cell_type": "code",
   "execution_count": 31,
   "metadata": {},
   "outputs": [
    {
     "data": {
      "text/plain": [
       "array([nan, '165000', nan, '400000', nan, nan, nan, '221999', nan,\n",
       "       '391214', '312000', nan, nan, '8750000', '86674', '50000',\n",
       "       '840000', nan, nan, nan, '110000', '43000', '216578', nan,\n",
       "       '192073', nan, '229000', '76566', nan, nan, '302000', '247003',\n",
       "       '220349', '66530', '355000', nan, '162000', '75000', nan, nan,\n",
       "       '150000', nan, nan, nan, '255228', '85000', '257106', nan,\n",
       "       '387000', '350000', nan, '142087', '90000', nan, nan, '129279',\n",
       "       nan, nan, nan, nan, nan, nan, '527088', '12298', nan, nan,\n",
       "       '181400', '182000', '400000', nan, nan, nan, '740000', '293000',\n",
       "       nan, '160000', '436000', nan, '700000', nan, nan, nan, '95000',\n",
       "       nan, '800000', '179000', nan, nan, '1410581', nan, '254000', nan,\n",
       "       '250000', '231607', '495000', nan, '350000', '125000', nan,\n",
       "       '125000', '316000', nan, '220000', '197000', nan, nan, '543675',\n",
       "       nan, '71053', nan, nan, '90000', '155122', nan, nan, '375000',\n",
       "       '1040000', nan, nan, nan, nan, '465000', nan, nan, '1400000',\n",
       "       '262000', '310000', '869347', '250000', nan, nan, '1800000',\n",
       "       '620000', '169290', '165000', nan, '79000', '130603', nan,\n",
       "       '330308', '270524', nan, '900000', '324092', nan, nan, nan, nan,\n",
       "       '441887', nan, nan, nan, '796479', nan, '71000', '304000',\n",
       "       '167635', nan, '440000', nan, nan, nan, nan, '228633', nan, nan,\n",
       "       nan, nan, '307620', '128641', nan, nan, nan, nan, nan, '910216',\n",
       "       nan, '257000', '639000', '392022', '100000', '408000', nan, nan,\n",
       "       nan, '210516', nan, '174776', '592328', '117882', '319811',\n",
       "       '305000', nan, '307096', '1000000', '90000', '489790', '195004',\n",
       "       nan, '315487', '259000', '2018405', '70000', nan, nan, nan,\n",
       "       '276000', '358000', '386000', nan, '624000', '1100000', nan,\n",
       "       '316000', '55000', '460000', nan, '128000', '512000', '175000',\n",
       "       nan, '201465', '547701', nan, '235980', nan, nan, '302000',\n",
       "       '300000', '359000', nan, '181321', nan, nan, nan, nan, nan, nan,\n",
       "       '477000', '155000', nan, '362000', nan, nan, nan, '305000', nan,\n",
       "       '331000', '93000', '1563546'], dtype=object)"
      ]
     },
     "execution_count": 31,
     "metadata": {},
     "output_type": "execute_result"
    }
   ],
   "source": [
    "rawData2[\"Cash Flow\"].values"
   ]
  },
  {
   "cell_type": "code",
   "execution_count": 32,
   "metadata": {},
   "outputs": [],
   "source": [
    "cleanData.to_csv(\"../Data/CleanData/cleanData.csv\", index=False)"
   ]
  },
  {
   "cell_type": "markdown",
   "metadata": {},
   "source": [
    "### # P/E Ratio"
   ]
  },
  {
   "cell_type": "code",
   "execution_count": 33,
   "metadata": {},
   "outputs": [
    {
     "name": "stdout",
     "output_type": "stream",
     "text": [
      "['1100000' '580000' '325000' '2195000' '6900000' nan '2199900' '900000'\n",
      " '45000' nan '870000' '45000' '299000' '5500000' '280000' '40000'\n",
      " '2000000' nan nan '250000' '298000' '220000' '695000' '112000' '750000'\n",
      " '1300000' '1029000' '275000' '750000' nan '490000' '375000' '725000'\n",
      " '199590' '1100000' '200000' '500000' '150000' '1100000' '50000' '850000'\n",
      " '50000' '75000' '340000' '499000' '3200000' '690000' nan '1500000'\n",
      " '525000' '250000' '494450' '285000' '100000' '275000' '375000' '50000'\n",
      " '3200000' '26900' '500000' '99000' '99000' '5000000' nan '67000' nan\n",
      " '425000' '495000' '1200000' '299999' '230000' '45000' '2000000' '550000'\n",
      " nan '375000' '800000' nan '700000' '150000' nan '450000' '349000'\n",
      " '112000' '3500000' '489000' nan '750000' '4200000' nan '750000' '1400000'\n",
      " '890000' '1000000' '2250000' '50000' '1200000' '350000' nan '350000'\n",
      " '740000' '40000' '600000' '549000' '1200000' nan '1350000' nan '140000'\n",
      " '275000' nan '295000' '490000' '50000' '128000' '1070000' '3700000'\n",
      " '169000' '195000' '1500000' '149000' '1175000' '225000' '500000'\n",
      " '22500000' '3450000' '1100000' '3500000' '650000' nan '449999' '1800000'\n",
      " '2196300' '599000' '400000' '100000' '90000' '440000' nan '850000'\n",
      " '4700000' nan '400000' '2400000' '370000' '300000' '375000' '40000'\n",
      " '1500000' '224000' nan '224000' '2150000' nan '215000' '1100000'\n",
      " '1500000' '3806374' '1350000' '50000' '229000' '75000' nan '800000'\n",
      " '600000' '65000' '1275000' '2200000' '690000' '290000' '175000' nan\n",
      " '100000' '180000' '257500' '3700000' '45000' '735940' '2500000' '1200000'\n",
      " '350000' '1000000' '500000' '450000' '375000' '863000' '200000' '250000'\n",
      " '592328' '265000' '1000000' '625000' nan '983000' '5000000' '195000'\n",
      " '1590000' '1000000' '150000' '950000' '500000' '7500000' '225000'\n",
      " '10000000' nan nan '750000' '1251000' '350000' '200000' '720000'\n",
      " '1650000' '480000' '600000' '110000' '1100000' nan '270000' '1800000'\n",
      " '550000' '200000' '825000' '2900000' '450000' '430000' '250000' '6600000'\n",
      " '490000' '300000' '600000' '1100000' '650000' '499000' '1000000' nan\n",
      " '85000' '30000' '300000' '1200000' '395000' '95000' '1200000' '595000'\n",
      " '125000' '200000' '305000' '50000' '1650000' '275000' '7800000']\n"
     ]
    },
    {
     "data": {
      "text/plain": [
       "array(['1100000', '580000', '325000', '2195000', '6900000', nan,\n",
       "       '2199900', '900000', '45000', nan, '870000', '45000', '299000',\n",
       "       '5500000', '280000', '40000', '2000000', nan, nan, '250000',\n",
       "       '298000', '220000', '695000', '112000', '750000', '1300000',\n",
       "       '1029000', '275000', '750000', nan, '490000', '375000', '725000',\n",
       "       '199590', '1100000', '200000', '500000', '150000', '1100000',\n",
       "       '50000', '850000', '50000', '75000', '340000', '499000', '3200000',\n",
       "       '690000', nan, '1500000', '525000', '250000', '494450', '285000',\n",
       "       '100000', '275000', '375000', '50000', '3200000', '26900',\n",
       "       '500000', '99000', '99000', '5000000', nan, '67000', nan, '425000',\n",
       "       '495000', '1200000', '299999', '230000', '45000', '2000000',\n",
       "       '550000', nan, '375000', '800000', nan, '700000', '150000', nan,\n",
       "       '450000', '349000', '112000', '3500000', '489000', nan, '750000',\n",
       "       '4200000', nan, '750000', '1400000', '890000', '1000000',\n",
       "       '2250000', '50000', '1200000', '350000', nan, '350000', '740000',\n",
       "       '40000', '600000', '549000', '1200000', nan, '1350000', nan,\n",
       "       '140000', '275000', nan, '295000', '490000', '50000', '128000',\n",
       "       '1070000', '3700000', '169000', '195000', '1500000', '149000',\n",
       "       '1175000', '225000', '500000', '22500000', '3450000', '1100000',\n",
       "       '3500000', '650000', nan, '449999', '1800000', '2196300', '599000',\n",
       "       '400000', '100000', '90000', '440000', nan, '850000', '4700000',\n",
       "       nan, '400000', '2400000', '370000', '300000', '375000', '40000',\n",
       "       '1500000', '224000', nan, '224000', '2150000', nan, '215000',\n",
       "       '1100000', '1500000', '3806374', '1350000', '50000', '229000',\n",
       "       '75000', nan, '800000', '600000', '65000', '1275000', '2200000',\n",
       "       '690000', '290000', '175000', nan, '100000', '180000', '257500',\n",
       "       '3700000', '45000', '735940', '2500000', '1200000', '350000',\n",
       "       '1000000', '500000', '450000', '375000', '863000', '200000',\n",
       "       '250000', '592328', '265000', '1000000', '625000', nan, '983000',\n",
       "       '5000000', '195000', '1590000', '1000000', '150000', '950000',\n",
       "       '500000', '7500000', '225000', '10000000', nan, nan, '750000',\n",
       "       '1251000', '350000', '200000', '720000', '1650000', '480000',\n",
       "       '600000', '110000', '1100000', nan, '270000', '1800000', '550000',\n",
       "       '200000', '825000', '2900000', '450000', '430000', '250000',\n",
       "       '6600000', '490000', '300000', '600000', '1100000', '650000',\n",
       "       '499000', '1000000', nan, '85000', '30000', '300000', '1200000',\n",
       "       '395000', '95000', '1200000', '595000', '125000', '200000',\n",
       "       '305000', '50000', '1650000', '275000', '7800000'], dtype=object)"
      ]
     },
     "execution_count": 33,
     "metadata": {},
     "output_type": "execute_result"
    }
   ],
   "source": [
    "print(rawData2[\"Asking Price\"].values)\n",
    "rawData2[\"Asking Price\"].values"
   ]
  },
  {
   "cell_type": "code",
   "execution_count": 34,
   "metadata": {},
   "outputs": [
    {
     "name": "stdout",
     "output_type": "stream",
     "text": [
      "<class 'numpy.ndarray'>\n",
      "[nan '165000' nan '400000' nan nan nan '221999' nan '391214' '312000' nan\n",
      " nan '8750000' '86674' '50000' '840000' nan nan nan '110000' '43000'\n",
      " '216578' nan '192073' nan '229000' '76566' nan nan '302000' '247003'\n",
      " '220349' '66530' '355000' nan '162000' '75000' nan nan '150000' nan nan\n",
      " nan '255228' '85000' '257106' nan '387000' '350000' nan '142087' '90000'\n",
      " nan nan '129279' nan nan nan nan nan nan '527088' '12298' nan nan\n",
      " '181400' '182000' '400000' nan nan nan '740000' '293000' nan '160000'\n",
      " '436000' nan '700000' nan nan nan '95000' nan '800000' '179000' nan nan\n",
      " '1410581' nan '254000' nan '250000' '231607' '495000' nan '350000'\n",
      " '125000' nan '125000' '316000' nan '220000' '197000' nan nan '543675' nan\n",
      " '71053' nan nan '90000' '155122' nan nan '375000' '1040000' nan nan nan\n",
      " nan '465000' nan nan '1400000' '262000' '310000' '869347' '250000' nan\n",
      " nan '1800000' '620000' '169290' '165000' nan '79000' '130603' nan\n",
      " '330308' '270524' nan '900000' '324092' nan nan nan nan '441887' nan nan\n",
      " nan '796479' nan '71000' '304000' '167635' nan '440000' nan nan nan nan\n",
      " '228633' nan nan nan nan '307620' '128641' nan nan nan nan nan '910216'\n",
      " nan '257000' '639000' '392022' '100000' '408000' nan nan nan '210516' nan\n",
      " '174776' '592328' '117882' '319811' '305000' nan '307096' '1000000'\n",
      " '90000' '489790' '195004' nan '315487' '259000' '2018405' '70000' nan nan\n",
      " nan '276000' '358000' '386000' nan '624000' '1100000' nan '316000'\n",
      " '55000' '460000' nan '128000' '512000' '175000' nan '201465' '547701' nan\n",
      " '235980' nan nan '302000' '300000' '359000' nan '181321' nan nan nan nan\n",
      " nan nan '477000' '155000' nan '362000' nan nan nan '305000' nan '331000'\n",
      " '93000' '1563546']\n"
     ]
    },
    {
     "data": {
      "text/plain": [
       "[float,\n",
       " str,\n",
       " float,\n",
       " str,\n",
       " float,\n",
       " float,\n",
       " float,\n",
       " str,\n",
       " float,\n",
       " str,\n",
       " str,\n",
       " float,\n",
       " float,\n",
       " str,\n",
       " str,\n",
       " str,\n",
       " str,\n",
       " float,\n",
       " float,\n",
       " float]"
      ]
     },
     "execution_count": 34,
     "metadata": {},
     "output_type": "execute_result"
    }
   ],
   "source": [
    "print(type(rawData2[\"Cash Flow\"].values))\n",
    "print(rawData2[\"Cash Flow\"].values)\n",
    "[type(item) for item in rawData2[\"Cash Flow\"].values][0:20]"
   ]
  },
  {
   "cell_type": "code",
   "execution_count": 35,
   "metadata": {},
   "outputs": [
    {
     "name": "stderr",
     "output_type": "stream",
     "text": [
      "C:\\Users\\Cube Statistica\\AppData\\Local\\Temp\\ipykernel_21136\\2554931023.py:1: FutureWarning: The default value of regex will change from True to False in a future version.\n",
      "  [type(item) for item in rawData2[\"Asking Price\"].str.replace(r\"[$,]\", \"\").astype(float)][0:20]\n"
     ]
    },
    {
     "data": {
      "text/plain": [
       "[float,\n",
       " float,\n",
       " float,\n",
       " float,\n",
       " float,\n",
       " float,\n",
       " float,\n",
       " float,\n",
       " float,\n",
       " float,\n",
       " float,\n",
       " float,\n",
       " float,\n",
       " float,\n",
       " float,\n",
       " float,\n",
       " float,\n",
       " float,\n",
       " float,\n",
       " float]"
      ]
     },
     "execution_count": 35,
     "metadata": {},
     "output_type": "execute_result"
    }
   ],
   "source": [
    "[type(item) for item in rawData2[\"Asking Price\"].str.replace(r\"[$,]\", \"\").astype(float)][0:20]"
   ]
  },
  {
   "cell_type": "code",
   "execution_count": 36,
   "metadata": {},
   "outputs": [
    {
     "name": "stderr",
     "output_type": "stream",
     "text": [
      "C:\\Users\\Cube Statistica\\AppData\\Local\\Temp\\ipykernel_21136\\3894750695.py:1: FutureWarning: The default value of regex will change from True to False in a future version.\n",
      "  rawData2[\"Asking Price\"].str.replace(r\"[$,]\", \"\").astype(float)\n"
     ]
    },
    {
     "data": {
      "text/plain": [
       "0      1100000.0\n",
       "1       580000.0\n",
       "2       325000.0\n",
       "3      2195000.0\n",
       "4      6900000.0\n",
       "         ...    \n",
       "245     305000.0\n",
       "246      50000.0\n",
       "247    1650000.0\n",
       "248     275000.0\n",
       "249    7800000.0\n",
       "Name: Asking Price, Length: 250, dtype: float64"
      ]
     },
     "execution_count": 36,
     "metadata": {},
     "output_type": "execute_result"
    }
   ],
   "source": [
    "rawData2[\"Asking Price\"].str.replace(r\"[$,]\", \"\").astype(float)"
   ]
  },
  {
   "cell_type": "code",
   "execution_count": 37,
   "metadata": {},
   "outputs": [
    {
     "name": "stderr",
     "output_type": "stream",
     "text": [
      "C:\\Users\\Cube Statistica\\AppData\\Local\\Temp\\ipykernel_21136\\4216117084.py:1: FutureWarning: The default value of regex will change from True to False in a future version.\n",
      "  rawData2[\"Asking Price\"].str.replace(r\"[$,]\", \"\").astype(float) / rawData2[\"Cash Flow\"].str.replace(r\"[$,]\", \"\").astype(float)\n"
     ]
    },
    {
     "data": {
      "text/plain": [
       "0           NaN\n",
       "1      3.515152\n",
       "2           NaN\n",
       "3      5.487500\n",
       "4           NaN\n",
       "         ...   \n",
       "245    1.000000\n",
       "246         NaN\n",
       "247    4.984894\n",
       "248    2.956989\n",
       "249    4.988660\n",
       "Length: 250, dtype: float64"
      ]
     },
     "execution_count": 37,
     "metadata": {},
     "output_type": "execute_result"
    }
   ],
   "source": [
    "rawData2[\"Asking Price\"].str.replace(r\"[$,]\", \"\").astype(float) / rawData2[\"Cash Flow\"].str.replace(r\"[$,]\", \"\").astype(float)"
   ]
  },
  {
   "cell_type": "code",
   "execution_count": 38,
   "metadata": {},
   "outputs": [
    {
     "name": "stderr",
     "output_type": "stream",
     "text": [
      "C:\\Users\\Cube Statistica\\AppData\\Local\\Temp\\ipykernel_21136\\720850752.py:3: FutureWarning: The default value of regex will change from True to False in a future version.\n",
      "  askingPrice = rawData2[\"Asking Price\"].str.replace(r\"[$,]\", \"\").astype(float)\n",
      "C:\\Users\\Cube Statistica\\AppData\\Local\\Temp\\ipykernel_21136\\720850752.py:4: FutureWarning: The default value of regex will change from True to False in a future version.\n",
      "  cashFlow    = rawData2[\"Cash Flow\"].str.replace(r\"[$,]\", \"\").astype(float)\n"
     ]
    },
    {
     "data": {
      "text/plain": [
       "0      NaN\n",
       "1      3.5\n",
       "2      NaN\n",
       "3      5.5\n",
       "4      NaN\n",
       "      ... \n",
       "245    1.0\n",
       "246    NaN\n",
       "247    5.0\n",
       "248    3.0\n",
       "249    5.0\n",
       "Name: P/E Ratio, Length: 250, dtype: float64"
      ]
     },
     "execution_count": 38,
     "metadata": {},
     "output_type": "execute_result"
    }
   ],
   "source": [
    "rawData3 = rawData2\n",
    "\n",
    "askingPrice = rawData2[\"Asking Price\"].str.replace(r\"[$,]\", \"\").astype(float)\n",
    "cashFlow    = rawData2[\"Cash Flow\"].str.replace(r\"[$,]\", \"\").astype(float)\n",
    "\n",
    "rawData3[\"P/E Ratio\"] = round(askingPrice / cashFlow, 1)\n",
    "rawData3[\"P/E Ratio\"]"
   ]
  },
  {
   "cell_type": "code",
   "execution_count": 39,
   "metadata": {},
   "outputs": [
    {
     "data": {
      "text/html": [
       "<div>\n",
       "<style scoped>\n",
       "    .dataframe tbody tr th:only-of-type {\n",
       "        vertical-align: middle;\n",
       "    }\n",
       "\n",
       "    .dataframe tbody tr th {\n",
       "        vertical-align: top;\n",
       "    }\n",
       "\n",
       "    .dataframe thead th {\n",
       "        text-align: right;\n",
       "    }\n",
       "</style>\n",
       "<table border=\"1\" class=\"dataframe\">\n",
       "  <thead>\n",
       "    <tr style=\"text-align: right;\">\n",
       "      <th></th>\n",
       "      <th>Position</th>\n",
       "      <th>Business Title</th>\n",
       "      <th>Location</th>\n",
       "      <th>Description</th>\n",
       "      <th>Asking Price</th>\n",
       "      <th>Cash Flow</th>\n",
       "      <th>Listing URL</th>\n",
       "      <th>Image</th>\n",
       "      <th>P/E Ratio</th>\n",
       "    </tr>\n",
       "  </thead>\n",
       "  <tbody>\n",
       "    <tr>\n",
       "      <th>0</th>\n",
       "      <td>1</td>\n",
       "      <td>Established Pharmacy Franchise for Sale - Own ...</td>\n",
       "      <td>Toronto, ON</td>\n",
       "      <td>This pharmacy is a leading supplier in the loc...</td>\n",
       "      <td>1100000</td>\n",
       "      <td>NaN</td>\n",
       "      <td>https://www.bizbuysell.com/Business-Opportunit...</td>\n",
       "      <td>https://images.bizbuysell.com/shared/listings/...</td>\n",
       "      <td>NaN</td>\n",
       "    </tr>\n",
       "    <tr>\n",
       "      <th>1</th>\n",
       "      <td>2</td>\n",
       "      <td>Premium Men's Barbershop &amp; Lifestyle Brand</td>\n",
       "      <td>Toronto, ON</td>\n",
       "      <td>Based in Toronto, Ontario, the company operate...</td>\n",
       "      <td>580000</td>\n",
       "      <td>165000</td>\n",
       "      <td>https://www.bizbuysell.com/Business-Opportunit...</td>\n",
       "      <td>https://images.bizbuysell.com/shared/listings/...</td>\n",
       "      <td>3.5</td>\n",
       "    </tr>\n",
       "    <tr>\n",
       "      <th>2</th>\n",
       "      <td>3</td>\n",
       "      <td>Automated Ai Lending Business In Ontario For Sale</td>\n",
       "      <td>Whitby, ON</td>\n",
       "      <td>This is an exceptional opportunity to purchase...</td>\n",
       "      <td>325000</td>\n",
       "      <td>NaN</td>\n",
       "      <td>https://www.bizbuysell.com/Business-Opportunit...</td>\n",
       "      <td>https://images.bizbuysell.com/shared/listings/...</td>\n",
       "      <td>NaN</td>\n",
       "    </tr>\n",
       "    <tr>\n",
       "      <th>3</th>\n",
       "      <td>4</td>\n",
       "      <td>Profitable Established Landscaping/Constructio...</td>\n",
       "      <td>Vaughan, ON</td>\n",
       "      <td>This well-established, turnkey, and profitable...</td>\n",
       "      <td>2195000</td>\n",
       "      <td>400000</td>\n",
       "      <td>https://www.bizbuysell.com/Business-Opportunit...</td>\n",
       "      <td>https://images.bizbuysell.com/shared/listings/...</td>\n",
       "      <td>5.5</td>\n",
       "    </tr>\n",
       "    <tr>\n",
       "      <th>4</th>\n",
       "      <td>5</td>\n",
       "      <td>Auto wreckers/recyclers/Auto parts store/Auto ...</td>\n",
       "      <td>BURFORD, ON</td>\n",
       "      <td>Profitable Auto Recyclers, auto parts store ju...</td>\n",
       "      <td>6900000</td>\n",
       "      <td>NaN</td>\n",
       "      <td>https://www.bizbuysell.com/Business-Opportunit...</td>\n",
       "      <td>https://images.bizbuysell.com/shared/listings/...</td>\n",
       "      <td>NaN</td>\n",
       "    </tr>\n",
       "    <tr>\n",
       "      <th>...</th>\n",
       "      <td>...</td>\n",
       "      <td>...</td>\n",
       "      <td>...</td>\n",
       "      <td>...</td>\n",
       "      <td>...</td>\n",
       "      <td>...</td>\n",
       "      <td>...</td>\n",
       "      <td>...</td>\n",
       "      <td>...</td>\n",
       "    </tr>\n",
       "    <tr>\n",
       "      <th>245</th>\n",
       "      <td>246</td>\n",
       "      <td>Retail Bakery &amp; Coffee Shop - Unique and Profi...</td>\n",
       "      <td>Ottawa, ON</td>\n",
       "      <td>**All dollar amounts are USD. All cash busines...</td>\n",
       "      <td>305000</td>\n",
       "      <td>305000</td>\n",
       "      <td>https://www.bizbuysell.com/Business-Opportunit...</td>\n",
       "      <td>https://images.bizbuysell.com/shared/listings/...</td>\n",
       "      <td>1.0</td>\n",
       "    </tr>\n",
       "    <tr>\n",
       "      <th>246</th>\n",
       "      <td>247</td>\n",
       "      <td>The Cleaning Authority</td>\n",
       "      <td>Available in Canada</td>\n",
       "      <td>Investing in The Cleaning Authority franchise ...</td>\n",
       "      <td>50000</td>\n",
       "      <td>NaN</td>\n",
       "      <td>https://www.bizbuysell.com/franchise-for-sale/...</td>\n",
       "      <td>https://images.bizbuysell.com/fnw/images/369/3...</td>\n",
       "      <td>NaN</td>\n",
       "    </tr>\n",
       "    <tr>\n",
       "      <th>247</th>\n",
       "      <td>248</td>\n",
       "      <td>Remunerative and Leading Online Auction House</td>\n",
       "      <td>SW Ontario, ON</td>\n",
       "      <td>This reliable online auction business speciali...</td>\n",
       "      <td>1650000</td>\n",
       "      <td>331000</td>\n",
       "      <td>https://www.bizbuysell.com/Business-Opportunit...</td>\n",
       "      <td>https://images.bizbuysell.com/shared/listings/...</td>\n",
       "      <td>5.0</td>\n",
       "    </tr>\n",
       "    <tr>\n",
       "      <th>248</th>\n",
       "      <td>249</td>\n",
       "      <td>Digital Marketing Agency with Proven Track Record</td>\n",
       "      <td>Home Based, ON</td>\n",
       "      <td>Explore an exclusive opportunity to step into ...</td>\n",
       "      <td>275000</td>\n",
       "      <td>93000</td>\n",
       "      <td>https://www.bizbuysell.com/Business-Opportunit...</td>\n",
       "      <td>https://images.bizbuysell.com/shared/listings/...</td>\n",
       "      <td>3.0</td>\n",
       "    </tr>\n",
       "    <tr>\n",
       "      <th>249</th>\n",
       "      <td>250</td>\n",
       "      <td>Interior Architecture &amp; Design Management</td>\n",
       "      <td>Toronto, ON</td>\n",
       "      <td>The Firms’ services include interior styling, ...</td>\n",
       "      <td>7800000</td>\n",
       "      <td>1563546</td>\n",
       "      <td>https://www.bizbuysell.com/Business-Opportunit...</td>\n",
       "      <td>https://images.bizbuysell.com/shared/listings/...</td>\n",
       "      <td>5.0</td>\n",
       "    </tr>\n",
       "  </tbody>\n",
       "</table>\n",
       "<p>250 rows × 9 columns</p>\n",
       "</div>"
      ],
      "text/plain": [
       "     Position                                     Business Title  \\\n",
       "0           1  Established Pharmacy Franchise for Sale - Own ...   \n",
       "1           2         Premium Men's Barbershop & Lifestyle Brand   \n",
       "2           3  Automated Ai Lending Business In Ontario For Sale   \n",
       "3           4  Profitable Established Landscaping/Constructio...   \n",
       "4           5  Auto wreckers/recyclers/Auto parts store/Auto ...   \n",
       "..        ...                                                ...   \n",
       "245       246  Retail Bakery & Coffee Shop - Unique and Profi...   \n",
       "246       247                             The Cleaning Authority   \n",
       "247       248      Remunerative and Leading Online Auction House   \n",
       "248       249  Digital Marketing Agency with Proven Track Record   \n",
       "249       250          Interior Architecture & Design Management   \n",
       "\n",
       "                Location                                        Description  \\\n",
       "0            Toronto, ON  This pharmacy is a leading supplier in the loc...   \n",
       "1            Toronto, ON  Based in Toronto, Ontario, the company operate...   \n",
       "2             Whitby, ON  This is an exceptional opportunity to purchase...   \n",
       "3            Vaughan, ON  This well-established, turnkey, and profitable...   \n",
       "4            BURFORD, ON  Profitable Auto Recyclers, auto parts store ju...   \n",
       "..                   ...                                                ...   \n",
       "245           Ottawa, ON  **All dollar amounts are USD. All cash busines...   \n",
       "246  Available in Canada  Investing in The Cleaning Authority franchise ...   \n",
       "247       SW Ontario, ON  This reliable online auction business speciali...   \n",
       "248       Home Based, ON  Explore an exclusive opportunity to step into ...   \n",
       "249          Toronto, ON  The Firms’ services include interior styling, ...   \n",
       "\n",
       "    Asking Price Cash Flow                                        Listing URL  \\\n",
       "0        1100000       NaN  https://www.bizbuysell.com/Business-Opportunit...   \n",
       "1         580000    165000  https://www.bizbuysell.com/Business-Opportunit...   \n",
       "2         325000       NaN  https://www.bizbuysell.com/Business-Opportunit...   \n",
       "3        2195000    400000  https://www.bizbuysell.com/Business-Opportunit...   \n",
       "4        6900000       NaN  https://www.bizbuysell.com/Business-Opportunit...   \n",
       "..           ...       ...                                                ...   \n",
       "245       305000    305000  https://www.bizbuysell.com/Business-Opportunit...   \n",
       "246        50000       NaN  https://www.bizbuysell.com/franchise-for-sale/...   \n",
       "247      1650000    331000  https://www.bizbuysell.com/Business-Opportunit...   \n",
       "248       275000     93000  https://www.bizbuysell.com/Business-Opportunit...   \n",
       "249      7800000   1563546  https://www.bizbuysell.com/Business-Opportunit...   \n",
       "\n",
       "                                                 Image  P/E Ratio  \n",
       "0    https://images.bizbuysell.com/shared/listings/...        NaN  \n",
       "1    https://images.bizbuysell.com/shared/listings/...        3.5  \n",
       "2    https://images.bizbuysell.com/shared/listings/...        NaN  \n",
       "3    https://images.bizbuysell.com/shared/listings/...        5.5  \n",
       "4    https://images.bizbuysell.com/shared/listings/...        NaN  \n",
       "..                                                 ...        ...  \n",
       "245  https://images.bizbuysell.com/shared/listings/...        1.0  \n",
       "246  https://images.bizbuysell.com/fnw/images/369/3...        NaN  \n",
       "247  https://images.bizbuysell.com/shared/listings/...        5.0  \n",
       "248  https://images.bizbuysell.com/shared/listings/...        3.0  \n",
       "249  https://images.bizbuysell.com/shared/listings/...        5.0  \n",
       "\n",
       "[250 rows x 9 columns]"
      ]
     },
     "execution_count": 39,
     "metadata": {},
     "output_type": "execute_result"
    }
   ],
   "source": [
    "rawData3"
   ]
  },
  {
   "cell_type": "code",
   "execution_count": 40,
   "metadata": {},
   "outputs": [],
   "source": [
    "cleanData = rawData3\n",
    "rawData3.to_csv(\"../Data/CleanData/cleanData.csv\", index=False)"
   ]
  },
  {
   "cell_type": "code",
   "execution_count": 41,
   "metadata": {},
   "outputs": [
    {
     "data": {
      "text/plain": [
       "1731854.6"
      ]
     },
     "execution_count": 41,
     "metadata": {},
     "output_type": "execute_result"
    }
   ],
   "source": [
    "(1_311_437+1_536_331+2_342_499+2_018_405+1_450_601) / 5"
   ]
  },
  {
   "cell_type": "code",
   "execution_count": 42,
   "metadata": {},
   "outputs": [
    {
     "data": {
      "text/plain": [
       "5195563.800000001"
      ]
     },
     "execution_count": 42,
     "metadata": {},
     "output_type": "execute_result"
    }
   ],
   "source": [
    "1731854.6 * 3"
   ]
  },
  {
   "cell_type": "markdown",
   "metadata": {},
   "source": [
    "### # Location"
   ]
  },
  {
   "cell_type": "code",
   "execution_count": 43,
   "metadata": {},
   "outputs": [],
   "source": [
    "rawData4 = rawData3"
   ]
  },
  {
   "cell_type": "code",
   "execution_count": 44,
   "metadata": {},
   "outputs": [
    {
     "data": {
      "text/plain": [
       "Toronto, ON             37\n",
       "Ontario                 32\n",
       "GTA, ON                 28\n",
       "Available in Canada     24\n",
       "Serving Ontario          8\n",
       "                        ..\n",
       "Carleton Place, ON       1\n",
       "toronto, ON              1\n",
       "$325,000                 1\n",
       "Northern Ontario, ON     1\n",
       "GTA North, ON            1\n",
       "Name: Location, Length: 75, dtype: int64"
      ]
     },
     "execution_count": 44,
     "metadata": {},
     "output_type": "execute_result"
    }
   ],
   "source": [
    "rawData3['Location'].value_counts()"
   ]
  },
  {
   "cell_type": "code",
   "execution_count": 45,
   "metadata": {},
   "outputs": [
    {
     "data": {
      "text/plain": [
       "75"
      ]
     },
     "execution_count": 45,
     "metadata": {},
     "output_type": "execute_result"
    }
   ],
   "source": [
    "len(rawData3['Location'].value_counts())"
   ]
  },
  {
   "cell_type": "code",
   "execution_count": 46,
   "metadata": {},
   "outputs": [
    {
     "data": {
      "text/plain": [
       "array(['Toronto, ON', 'Whitby, ON', 'Vaughan, ON', 'BURFORD, ON', nan,\n",
       "       'Brantford, ON', 'London, ON', 'Thunder Bay, ON', 'Ontario',\n",
       "       'Available in Canada', 'Newmarket, ON',\n",
       "       'South Western Ontario, ON', 'Serving Ontario', 'Mississauga, ON',\n",
       "       'Greater Toronto Area, ON', 'Peel Region, ON', 'Brockville, ON',\n",
       "       'Regional Municipality of Peel, ON', 'Hamilton, ON',\n",
       "       'Regional Municipality of Niagara, ON', 'Simcoe County, ON',\n",
       "       'St. Catharines, ON', 'Sarnia, ON', 'Halton Region, ON',\n",
       "       'Renfrew, ON', 'Oakville, ON', 'Bowmanville, ON', 'Burlington, ON',\n",
       "       'Halton Hills, ON', 'M5j 230, ON', 'Kingston, ON',\n",
       "       'Oakville, Ontario, Canada, ON', 'Ontario West, ON',\n",
       "       'Brampton, ON', 'GTA, ON', '$1,100,000', 'Aurora, ON',\n",
       "       'Southern Ontario, ON', 'Confidential, ON', '$580,000',\n",
       "       'Carleton Place, ON', 'toronto, ON', 'Niagara Region, ON',\n",
       "       '$325,000', 'Northern Ontario, ON', 'Devlin, ON',\n",
       "       'Rednersville, ON', '$2,195,000', 'Oshawa, ON', 'Windsor, ON',\n",
       "       'Guelph, ON', 'Cambridge, ON', 'Soiuthwestern Ontario, ON',\n",
       "       'Barrie, ON', 'Southwestern Ontario, ON', 'Waterloo Region, ON',\n",
       "       'West of GTA, ON', '$6,900,000', '$2,199,900',\n",
       "       'Central Ontario, ON', 'Plympton-Wyoming, ON', 'Ottawa Valley, ON',\n",
       "       'Picton, ON', '$900,000', 'Etobicoke, ON', 'Port Perry, ON',\n",
       "       'Ottawa, ON', 'SW Ontario, ON', 'Eastern Ontario, ON',\n",
       "       'West GTA, ON', 'Hamilton / Niagara, ON', 'Markham, ON',\n",
       "       'Ontario, ON', 'GTA East, ON', 'Home Based, ON', 'GTA North, ON'],\n",
       "      dtype=object)"
      ]
     },
     "execution_count": 46,
     "metadata": {},
     "output_type": "execute_result"
    }
   ],
   "source": [
    "rawData3['Location'].unique()"
   ]
  },
  {
   "cell_type": "code",
   "execution_count": 47,
   "metadata": {},
   "outputs": [
    {
     "data": {
      "text/plain": [
       "75"
      ]
     },
     "execution_count": 47,
     "metadata": {},
     "output_type": "execute_result"
    }
   ],
   "source": [
    "rawData3['Location'].nunique()"
   ]
  },
  {
   "cell_type": "code",
   "execution_count": 48,
   "metadata": {},
   "outputs": [
    {
     "name": "stderr",
     "output_type": "stream",
     "text": [
      "C:\\Users\\Cube Statistica\\AppData\\Local\\Temp\\ipykernel_21136\\2483792731.py:1: FutureWarning: The default value of regex will change from True to False in a future version.\n",
      "  type(rawData3[\"Location\"].str.replace(r\"[$,0-9]\", \"\"))\n"
     ]
    },
    {
     "data": {
      "text/plain": [
       "pandas.core.series.Series"
      ]
     },
     "execution_count": 48,
     "metadata": {},
     "output_type": "execute_result"
    }
   ],
   "source": [
    "type(rawData3[\"Location\"].str.replace(r\"[$,0-9]\", \"\"))"
   ]
  },
  {
   "cell_type": "code",
   "execution_count": 49,
   "metadata": {},
   "outputs": [
    {
     "name": "stderr",
     "output_type": "stream",
     "text": [
      "C:\\Users\\Cube Statistica\\AppData\\Local\\Temp\\ipykernel_21136\\405011267.py:1: FutureWarning: The default value of regex will change from True to False in a future version.\n",
      "  rawData3[\"Location\"].str.replace(r\"[$,0-9]\", \"\").unique()\n"
     ]
    },
    {
     "data": {
      "text/plain": [
       "array(['Toronto ON', 'Whitby ON', 'Vaughan ON', 'BURFORD ON', nan,\n",
       "       'Brantford ON', 'London ON', 'Thunder Bay ON', 'Ontario',\n",
       "       'Available in Canada', 'Newmarket ON', 'South Western Ontario ON',\n",
       "       'Serving Ontario', 'Mississauga ON', 'Greater Toronto Area ON',\n",
       "       'Peel Region ON', 'Brockville ON',\n",
       "       'Regional Municipality of Peel ON', 'Hamilton ON',\n",
       "       'Regional Municipality of Niagara ON', 'Simcoe County ON',\n",
       "       'St. Catharines ON', 'Sarnia ON', 'Halton Region ON', 'Renfrew ON',\n",
       "       'Oakville ON', 'Bowmanville ON', 'Burlington ON',\n",
       "       'Halton Hills ON', 'Mj  ON', 'Kingston ON',\n",
       "       'Oakville Ontario Canada ON', 'Ontario West ON', 'Brampton ON',\n",
       "       'GTA ON', '', 'Aurora ON', 'Southern Ontario ON',\n",
       "       'Confidential ON', 'Carleton Place ON', 'toronto ON',\n",
       "       'Niagara Region ON', 'Northern Ontario ON', 'Devlin ON',\n",
       "       'Rednersville ON', 'Oshawa ON', 'Windsor ON', 'Guelph ON',\n",
       "       'Cambridge ON', 'Soiuthwestern Ontario ON', 'Barrie ON',\n",
       "       'Southwestern Ontario ON', 'Waterloo Region ON', 'West of GTA ON',\n",
       "       'Central Ontario ON', 'Plympton-Wyoming ON', 'Ottawa Valley ON',\n",
       "       'Picton ON', 'Etobicoke ON', 'Port Perry ON', 'Ottawa ON',\n",
       "       'SW Ontario ON', 'Eastern Ontario ON', 'West GTA ON',\n",
       "       'Hamilton / Niagara ON', 'Markham ON', 'Ontario ON', 'GTA East ON',\n",
       "       'Home Based ON', 'GTA North ON'], dtype=object)"
      ]
     },
     "execution_count": 49,
     "metadata": {},
     "output_type": "execute_result"
    }
   ],
   "source": [
    "rawData3[\"Location\"].str.replace(r\"[$,0-9]\", \"\").unique()"
   ]
  },
  {
   "cell_type": "code",
   "execution_count": 50,
   "metadata": {},
   "outputs": [
    {
     "name": "stdout",
     "output_type": "stream",
     "text": [
      "Number of rows: 250\n"
     ]
    },
    {
     "name": "stderr",
     "output_type": "stream",
     "text": [
      "C:\\Users\\Cube Statistica\\AppData\\Local\\Temp\\ipykernel_21136\\2187885718.py:1: FutureWarning: The default value of regex will change from True to False in a future version.\n",
      "  print(\"Number of rows:\", len(rawData3[\"Location\"].str.replace(r\"[$,0-9]\", \"\").replace(r'^\\s*$', np.nan, regex=True).values))\n",
      "C:\\Users\\Cube Statistica\\AppData\\Local\\Temp\\ipykernel_21136\\2187885718.py:2: FutureWarning: The default value of regex will change from True to False in a future version.\n",
      "  rawData3[\"Location\"].str.replace(r\"[$,0-9]\", \"\").replace(r'^\\s*$', np.nan, regex=True).values[0:10]\n"
     ]
    },
    {
     "data": {
      "text/plain": [
       "array(['Toronto ON', 'Toronto ON', 'Whitby ON', 'Vaughan ON',\n",
       "       'BURFORD ON', nan, 'Brantford ON', 'London ON', 'Thunder Bay ON',\n",
       "       'Ontario'], dtype=object)"
      ]
     },
     "execution_count": 50,
     "metadata": {},
     "output_type": "execute_result"
    }
   ],
   "source": [
    "print(\"Number of rows:\", len(rawData3[\"Location\"].str.replace(r\"[$,0-9]\", \"\").replace(r'^\\s*$', np.nan, regex=True).values))\n",
    "rawData3[\"Location\"].str.replace(r\"[$,0-9]\", \"\").replace(r'^\\s*$', np.nan, regex=True).values[0:10]"
   ]
  },
  {
   "cell_type": "code",
   "execution_count": 51,
   "metadata": {},
   "outputs": [
    {
     "name": "stderr",
     "output_type": "stream",
     "text": [
      "C:\\Users\\Cube Statistica\\AppData\\Local\\Temp\\ipykernel_21136\\3306249396.py:1: FutureWarning: The default value of regex will change from True to False in a future version.\n",
      "  rawData3[\"Location\"].str.replace(r\"[$,0-9]\", \"\").replace(r'^\\s*$', np.nan, regex=True)[0:10]\n"
     ]
    },
    {
     "data": {
      "text/plain": [
       "0        Toronto ON\n",
       "1        Toronto ON\n",
       "2         Whitby ON\n",
       "3        Vaughan ON\n",
       "4        BURFORD ON\n",
       "5               NaN\n",
       "6      Brantford ON\n",
       "7         London ON\n",
       "8    Thunder Bay ON\n",
       "9           Ontario\n",
       "Name: Location, dtype: object"
      ]
     },
     "execution_count": 51,
     "metadata": {},
     "output_type": "execute_result"
    }
   ],
   "source": [
    "rawData3[\"Location\"].str.replace(r\"[$,0-9]\", \"\").replace(r'^\\s*$', np.nan, regex=True)[0:10]"
   ]
  },
  {
   "cell_type": "code",
   "execution_count": 52,
   "metadata": {},
   "outputs": [
    {
     "name": "stderr",
     "output_type": "stream",
     "text": [
      "C:\\Users\\Cube Statistica\\AppData\\Local\\Temp\\ipykernel_21136\\3559694533.py:1: FutureWarning: The default value of regex will change from True to False in a future version.\n",
      "  rawData3[\"Location\"].str.replace(r\"[$,0-9]\", \"\").replace(r'^\\s*$', np.nan, regex=True).unique()\n"
     ]
    },
    {
     "data": {
      "text/plain": [
       "array(['Toronto ON', 'Whitby ON', 'Vaughan ON', 'BURFORD ON', nan,\n",
       "       'Brantford ON', 'London ON', 'Thunder Bay ON', 'Ontario',\n",
       "       'Available in Canada', 'Newmarket ON', 'South Western Ontario ON',\n",
       "       'Serving Ontario', 'Mississauga ON', 'Greater Toronto Area ON',\n",
       "       'Peel Region ON', 'Brockville ON',\n",
       "       'Regional Municipality of Peel ON', 'Hamilton ON',\n",
       "       'Regional Municipality of Niagara ON', 'Simcoe County ON',\n",
       "       'St. Catharines ON', 'Sarnia ON', 'Halton Region ON', 'Renfrew ON',\n",
       "       'Oakville ON', 'Bowmanville ON', 'Burlington ON',\n",
       "       'Halton Hills ON', 'Mj  ON', 'Kingston ON',\n",
       "       'Oakville Ontario Canada ON', 'Ontario West ON', 'Brampton ON',\n",
       "       'GTA ON', 'Aurora ON', 'Southern Ontario ON', 'Confidential ON',\n",
       "       'Carleton Place ON', 'toronto ON', 'Niagara Region ON',\n",
       "       'Northern Ontario ON', 'Devlin ON', 'Rednersville ON', 'Oshawa ON',\n",
       "       'Windsor ON', 'Guelph ON', 'Cambridge ON',\n",
       "       'Soiuthwestern Ontario ON', 'Barrie ON', 'Southwestern Ontario ON',\n",
       "       'Waterloo Region ON', 'West of GTA ON', 'Central Ontario ON',\n",
       "       'Plympton-Wyoming ON', 'Ottawa Valley ON', 'Picton ON',\n",
       "       'Etobicoke ON', 'Port Perry ON', 'Ottawa ON', 'SW Ontario ON',\n",
       "       'Eastern Ontario ON', 'West GTA ON', 'Hamilton / Niagara ON',\n",
       "       'Markham ON', 'Ontario ON', 'GTA East ON', 'Home Based ON',\n",
       "       'GTA North ON'], dtype=object)"
      ]
     },
     "execution_count": 52,
     "metadata": {},
     "output_type": "execute_result"
    }
   ],
   "source": [
    "rawData3[\"Location\"].str.replace(r\"[$,0-9]\", \"\").replace(r'^\\s*$', np.nan, regex=True).unique()"
   ]
  },
  {
   "cell_type": "code",
   "execution_count": 53,
   "metadata": {},
   "outputs": [
    {
     "name": "stderr",
     "output_type": "stream",
     "text": [
      "C:\\Users\\Cube Statistica\\AppData\\Local\\Temp\\ipykernel_21136\\836561378.py:1: FutureWarning: The default value of regex will change from True to False in a future version.\n",
      "  rawData4['Location'] = rawData3[\"Location\"].str.replace(r\"[$,0-9]\", \"\").replace(r'^\\s*$', np.nan, regex=True)\n"
     ]
    }
   ],
   "source": [
    "rawData4['Location'] = rawData3[\"Location\"].str.replace(r\"[$,0-9]\", \"\").replace(r'^\\s*$', np.nan, regex=True)\n"
   ]
  },
  {
   "cell_type": "code",
   "execution_count": 54,
   "metadata": {},
   "outputs": [
    {
     "data": {
      "text/plain": [
       "0               Toronto ON\n",
       "1               Toronto ON\n",
       "2                Whitby ON\n",
       "3               Vaughan ON\n",
       "4               BURFORD ON\n",
       "              ...         \n",
       "245              Ottawa ON\n",
       "246    Available in Canada\n",
       "247          SW Ontario ON\n",
       "248          Home Based ON\n",
       "249             Toronto ON\n",
       "Name: Location, Length: 250, dtype: object"
      ]
     },
     "execution_count": 54,
     "metadata": {},
     "output_type": "execute_result"
    }
   ],
   "source": [
    "rawData3[\"Location\"]"
   ]
  },
  {
   "cell_type": "code",
   "execution_count": 55,
   "metadata": {},
   "outputs": [
    {
     "data": {
      "text/plain": [
       "0               Toronto ON\n",
       "1               Toronto ON\n",
       "2                Whitby ON\n",
       "3               Vaughan ON\n",
       "4               BURFORD ON\n",
       "              ...         \n",
       "245              Ottawa ON\n",
       "246    Available in Canada\n",
       "247          SW Ontario ON\n",
       "248          Home Based ON\n",
       "249             Toronto ON\n",
       "Name: Location, Length: 250, dtype: object"
      ]
     },
     "execution_count": 55,
     "metadata": {},
     "output_type": "execute_result"
    }
   ],
   "source": [
    "rawData4['Location']"
   ]
  },
  {
   "cell_type": "code",
   "execution_count": 56,
   "metadata": {},
   "outputs": [
    {
     "data": {
      "text/plain": [
       "False"
      ]
     },
     "execution_count": 56,
     "metadata": {},
     "output_type": "execute_result"
    }
   ],
   "source": [
    "all(rawData4['Location'] == rawData3[\"Location\"]) # Most likely not True because cannot compare NaN with NaN"
   ]
  },
  {
   "cell_type": "code",
   "execution_count": 57,
   "metadata": {},
   "outputs": [
    {
     "data": {
      "text/plain": [
       "True"
      ]
     },
     "execution_count": 57,
     "metadata": {},
     "output_type": "execute_result"
    }
   ],
   "source": [
    "all(rawData4['Location'].dropna() == rawData3[\"Location\"].dropna()) # If drop NaN should give True."
   ]
  },
  {
   "cell_type": "code",
   "execution_count": 58,
   "metadata": {},
   "outputs": [
    {
     "data": {
      "text/html": [
       "<div>\n",
       "<style scoped>\n",
       "    .dataframe tbody tr th:only-of-type {\n",
       "        vertical-align: middle;\n",
       "    }\n",
       "\n",
       "    .dataframe tbody tr th {\n",
       "        vertical-align: top;\n",
       "    }\n",
       "\n",
       "    .dataframe thead th {\n",
       "        text-align: right;\n",
       "    }\n",
       "</style>\n",
       "<table border=\"1\" class=\"dataframe\">\n",
       "  <thead>\n",
       "    <tr style=\"text-align: right;\">\n",
       "      <th></th>\n",
       "      <th>Position</th>\n",
       "      <th>Business Title</th>\n",
       "      <th>Location</th>\n",
       "      <th>Description</th>\n",
       "      <th>Asking Price</th>\n",
       "      <th>Cash Flow</th>\n",
       "      <th>Listing URL</th>\n",
       "      <th>Image</th>\n",
       "      <th>P/E Ratio</th>\n",
       "    </tr>\n",
       "  </thead>\n",
       "  <tbody>\n",
       "    <tr>\n",
       "      <th>0</th>\n",
       "      <td>1</td>\n",
       "      <td>Established Pharmacy Franchise for Sale - Own ...</td>\n",
       "      <td>Toronto ON</td>\n",
       "      <td>This pharmacy is a leading supplier in the loc...</td>\n",
       "      <td>1100000</td>\n",
       "      <td>NaN</td>\n",
       "      <td>https://www.bizbuysell.com/Business-Opportunit...</td>\n",
       "      <td>https://images.bizbuysell.com/shared/listings/...</td>\n",
       "      <td>NaN</td>\n",
       "    </tr>\n",
       "    <tr>\n",
       "      <th>1</th>\n",
       "      <td>2</td>\n",
       "      <td>Premium Men's Barbershop &amp; Lifestyle Brand</td>\n",
       "      <td>Toronto ON</td>\n",
       "      <td>Based in Toronto, Ontario, the company operate...</td>\n",
       "      <td>580000</td>\n",
       "      <td>165000</td>\n",
       "      <td>https://www.bizbuysell.com/Business-Opportunit...</td>\n",
       "      <td>https://images.bizbuysell.com/shared/listings/...</td>\n",
       "      <td>3.5</td>\n",
       "    </tr>\n",
       "    <tr>\n",
       "      <th>2</th>\n",
       "      <td>3</td>\n",
       "      <td>Automated Ai Lending Business In Ontario For Sale</td>\n",
       "      <td>Whitby ON</td>\n",
       "      <td>This is an exceptional opportunity to purchase...</td>\n",
       "      <td>325000</td>\n",
       "      <td>NaN</td>\n",
       "      <td>https://www.bizbuysell.com/Business-Opportunit...</td>\n",
       "      <td>https://images.bizbuysell.com/shared/listings/...</td>\n",
       "      <td>NaN</td>\n",
       "    </tr>\n",
       "    <tr>\n",
       "      <th>3</th>\n",
       "      <td>4</td>\n",
       "      <td>Profitable Established Landscaping/Constructio...</td>\n",
       "      <td>Vaughan ON</td>\n",
       "      <td>This well-established, turnkey, and profitable...</td>\n",
       "      <td>2195000</td>\n",
       "      <td>400000</td>\n",
       "      <td>https://www.bizbuysell.com/Business-Opportunit...</td>\n",
       "      <td>https://images.bizbuysell.com/shared/listings/...</td>\n",
       "      <td>5.5</td>\n",
       "    </tr>\n",
       "    <tr>\n",
       "      <th>4</th>\n",
       "      <td>5</td>\n",
       "      <td>Auto wreckers/recyclers/Auto parts store/Auto ...</td>\n",
       "      <td>BURFORD ON</td>\n",
       "      <td>Profitable Auto Recyclers, auto parts store ju...</td>\n",
       "      <td>6900000</td>\n",
       "      <td>NaN</td>\n",
       "      <td>https://www.bizbuysell.com/Business-Opportunit...</td>\n",
       "      <td>https://images.bizbuysell.com/shared/listings/...</td>\n",
       "      <td>NaN</td>\n",
       "    </tr>\n",
       "    <tr>\n",
       "      <th>...</th>\n",
       "      <td>...</td>\n",
       "      <td>...</td>\n",
       "      <td>...</td>\n",
       "      <td>...</td>\n",
       "      <td>...</td>\n",
       "      <td>...</td>\n",
       "      <td>...</td>\n",
       "      <td>...</td>\n",
       "      <td>...</td>\n",
       "    </tr>\n",
       "    <tr>\n",
       "      <th>245</th>\n",
       "      <td>246</td>\n",
       "      <td>Retail Bakery &amp; Coffee Shop - Unique and Profi...</td>\n",
       "      <td>Ottawa ON</td>\n",
       "      <td>**All dollar amounts are USD. All cash busines...</td>\n",
       "      <td>305000</td>\n",
       "      <td>305000</td>\n",
       "      <td>https://www.bizbuysell.com/Business-Opportunit...</td>\n",
       "      <td>https://images.bizbuysell.com/shared/listings/...</td>\n",
       "      <td>1.0</td>\n",
       "    </tr>\n",
       "    <tr>\n",
       "      <th>246</th>\n",
       "      <td>247</td>\n",
       "      <td>The Cleaning Authority</td>\n",
       "      <td>Available in Canada</td>\n",
       "      <td>Investing in The Cleaning Authority franchise ...</td>\n",
       "      <td>50000</td>\n",
       "      <td>NaN</td>\n",
       "      <td>https://www.bizbuysell.com/franchise-for-sale/...</td>\n",
       "      <td>https://images.bizbuysell.com/fnw/images/369/3...</td>\n",
       "      <td>NaN</td>\n",
       "    </tr>\n",
       "    <tr>\n",
       "      <th>247</th>\n",
       "      <td>248</td>\n",
       "      <td>Remunerative and Leading Online Auction House</td>\n",
       "      <td>SW Ontario ON</td>\n",
       "      <td>This reliable online auction business speciali...</td>\n",
       "      <td>1650000</td>\n",
       "      <td>331000</td>\n",
       "      <td>https://www.bizbuysell.com/Business-Opportunit...</td>\n",
       "      <td>https://images.bizbuysell.com/shared/listings/...</td>\n",
       "      <td>5.0</td>\n",
       "    </tr>\n",
       "    <tr>\n",
       "      <th>248</th>\n",
       "      <td>249</td>\n",
       "      <td>Digital Marketing Agency with Proven Track Record</td>\n",
       "      <td>Home Based ON</td>\n",
       "      <td>Explore an exclusive opportunity to step into ...</td>\n",
       "      <td>275000</td>\n",
       "      <td>93000</td>\n",
       "      <td>https://www.bizbuysell.com/Business-Opportunit...</td>\n",
       "      <td>https://images.bizbuysell.com/shared/listings/...</td>\n",
       "      <td>3.0</td>\n",
       "    </tr>\n",
       "    <tr>\n",
       "      <th>249</th>\n",
       "      <td>250</td>\n",
       "      <td>Interior Architecture &amp; Design Management</td>\n",
       "      <td>Toronto ON</td>\n",
       "      <td>The Firms’ services include interior styling, ...</td>\n",
       "      <td>7800000</td>\n",
       "      <td>1563546</td>\n",
       "      <td>https://www.bizbuysell.com/Business-Opportunit...</td>\n",
       "      <td>https://images.bizbuysell.com/shared/listings/...</td>\n",
       "      <td>5.0</td>\n",
       "    </tr>\n",
       "  </tbody>\n",
       "</table>\n",
       "<p>250 rows × 9 columns</p>\n",
       "</div>"
      ],
      "text/plain": [
       "     Position                                     Business Title  \\\n",
       "0           1  Established Pharmacy Franchise for Sale - Own ...   \n",
       "1           2         Premium Men's Barbershop & Lifestyle Brand   \n",
       "2           3  Automated Ai Lending Business In Ontario For Sale   \n",
       "3           4  Profitable Established Landscaping/Constructio...   \n",
       "4           5  Auto wreckers/recyclers/Auto parts store/Auto ...   \n",
       "..        ...                                                ...   \n",
       "245       246  Retail Bakery & Coffee Shop - Unique and Profi...   \n",
       "246       247                             The Cleaning Authority   \n",
       "247       248      Remunerative and Leading Online Auction House   \n",
       "248       249  Digital Marketing Agency with Proven Track Record   \n",
       "249       250          Interior Architecture & Design Management   \n",
       "\n",
       "                Location                                        Description  \\\n",
       "0             Toronto ON  This pharmacy is a leading supplier in the loc...   \n",
       "1             Toronto ON  Based in Toronto, Ontario, the company operate...   \n",
       "2              Whitby ON  This is an exceptional opportunity to purchase...   \n",
       "3             Vaughan ON  This well-established, turnkey, and profitable...   \n",
       "4             BURFORD ON  Profitable Auto Recyclers, auto parts store ju...   \n",
       "..                   ...                                                ...   \n",
       "245            Ottawa ON  **All dollar amounts are USD. All cash busines...   \n",
       "246  Available in Canada  Investing in The Cleaning Authority franchise ...   \n",
       "247        SW Ontario ON  This reliable online auction business speciali...   \n",
       "248        Home Based ON  Explore an exclusive opportunity to step into ...   \n",
       "249           Toronto ON  The Firms’ services include interior styling, ...   \n",
       "\n",
       "    Asking Price Cash Flow                                        Listing URL  \\\n",
       "0        1100000       NaN  https://www.bizbuysell.com/Business-Opportunit...   \n",
       "1         580000    165000  https://www.bizbuysell.com/Business-Opportunit...   \n",
       "2         325000       NaN  https://www.bizbuysell.com/Business-Opportunit...   \n",
       "3        2195000    400000  https://www.bizbuysell.com/Business-Opportunit...   \n",
       "4        6900000       NaN  https://www.bizbuysell.com/Business-Opportunit...   \n",
       "..           ...       ...                                                ...   \n",
       "245       305000    305000  https://www.bizbuysell.com/Business-Opportunit...   \n",
       "246        50000       NaN  https://www.bizbuysell.com/franchise-for-sale/...   \n",
       "247      1650000    331000  https://www.bizbuysell.com/Business-Opportunit...   \n",
       "248       275000     93000  https://www.bizbuysell.com/Business-Opportunit...   \n",
       "249      7800000   1563546  https://www.bizbuysell.com/Business-Opportunit...   \n",
       "\n",
       "                                                 Image  P/E Ratio  \n",
       "0    https://images.bizbuysell.com/shared/listings/...        NaN  \n",
       "1    https://images.bizbuysell.com/shared/listings/...        3.5  \n",
       "2    https://images.bizbuysell.com/shared/listings/...        NaN  \n",
       "3    https://images.bizbuysell.com/shared/listings/...        5.5  \n",
       "4    https://images.bizbuysell.com/shared/listings/...        NaN  \n",
       "..                                                 ...        ...  \n",
       "245  https://images.bizbuysell.com/shared/listings/...        1.0  \n",
       "246  https://images.bizbuysell.com/fnw/images/369/3...        NaN  \n",
       "247  https://images.bizbuysell.com/shared/listings/...        5.0  \n",
       "248  https://images.bizbuysell.com/shared/listings/...        3.0  \n",
       "249  https://images.bizbuysell.com/shared/listings/...        5.0  \n",
       "\n",
       "[250 rows x 9 columns]"
      ]
     },
     "execution_count": 58,
     "metadata": {},
     "output_type": "execute_result"
    }
   ],
   "source": [
    "rawData4"
   ]
  },
  {
   "cell_type": "code",
   "execution_count": 59,
   "metadata": {},
   "outputs": [],
   "source": [
    "cleanData = rawData4"
   ]
  },
  {
   "cell_type": "code",
   "execution_count": 60,
   "metadata": {},
   "outputs": [],
   "source": [
    "cleanData.to_csv(\"../Data/CleanData/cleanData.csv\", index=False)"
   ]
  },
  {
   "cell_type": "markdown",
   "metadata": {},
   "source": [
    "### # Franchise"
   ]
  },
  {
   "cell_type": "code",
   "execution_count": 61,
   "metadata": {},
   "outputs": [],
   "source": [
    "# Want to label each business (row) if it is a business or not using business desciption or title."
   ]
  },
  {
   "cell_type": "markdown",
   "metadata": {},
   "source": [
    "### # Remove ads included in the data as rows."
   ]
  },
  {
   "cell_type": "markdown",
   "metadata": {},
   "source": []
  }
 ],
 "metadata": {
  "kernelspec": {
   "display_name": "base",
   "language": "python",
   "name": "python3"
  },
  "language_info": {
   "codemirror_mode": {
    "name": "ipython",
    "version": 3
   },
   "file_extension": ".py",
   "mimetype": "text/x-python",
   "name": "python",
   "nbconvert_exporter": "python",
   "pygments_lexer": "ipython3",
   "version": "3.9.12"
  }
 },
 "nbformat": 4,
 "nbformat_minor": 2
}
